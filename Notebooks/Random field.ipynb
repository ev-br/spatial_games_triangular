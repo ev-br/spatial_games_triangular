{
 "cells": [
  {
   "cell_type": "code",
   "execution_count": null,
   "metadata": {
    "collapsed": true
   },
   "outputs": [],
   "source": [
    "from Assemblies.game import GameField\n",
    "import numpy as np\n",
    "import time\n",
    "\n",
    "%matplotlib notebook\n",
    "import matplotlib.pyplot as plt\n",
    "#import bqplot.pyplot as plt\n",
    "\n",
    "from __future__ import print_function\n",
    "from ipywidgets import interact, interactive, fixed, interact_manual, Layout, VBox\n",
    "import ipywidgets as widgets"
   ]
  },
  {
   "cell_type": "code",
   "execution_count": null,
   "metadata": {
    "collapsed": true
   },
   "outputs": [],
   "source": [
    "def show_field(field, point_size=10, scale=10):\n",
    "    plt.clf()\n",
    "    plt.figure(figsize = (scale*1, scale*0.666))\n",
    "    point_size = scale / (len(field)**2) * 10000\n",
    "    \n",
    "    \n",
    "    y, x = (1-field).nonzero()\n",
    "    plt.scatter(x + y*np.sin(np.pi/6), y * np.sin(np.pi/3), s=point_size, marker='h')\n",
    "    y, x = field.nonzero()\n",
    "    plt.scatter(x + y*np.sin(np.pi/6), y * np.sin(np.pi/3), s=point_size, marker='h', c='r')\n",
    "    plt.show()"
   ]
  },
  {
   "cell_type": "code",
   "execution_count": null,
   "metadata": {
    "collapsed": true
   },
   "outputs": [],
   "source": [
    "def get_field(b):\n",
    "    show_field(fields[b].field, scale=20)"
   ]
  },
  {
   "cell_type": "code",
   "execution_count": null,
   "metadata": {
    "collapsed": true
   },
   "outputs": [],
   "source": [
    "def on_step_btn(current):\n",
    "    for b in b_points:\n",
    "        GameField.evolve(fields[b])"
   ]
  },
  {
   "cell_type": "code",
   "execution_count": null,
   "metadata": {
    "collapsed": true
   },
   "outputs": [],
   "source": [
    "b_points = np.array([1, 5/4, 4/3, 6/4, 5/3, 7/4, 2, 7/3]) + 0.01\n",
    "\n",
    "def init(size, percentage=21, seed=-1):\n",
    "    global b_points \n",
    "    fields = {b : GameField(size, b) for b in b_points}\n",
    "    \n",
    "    rnd = np.random\n",
    "    if seed != -1: \n",
    "        rnd.seed(seed)\n",
    "    else:\n",
    "        rnd.seed(time.time())\n",
    "    inctance = np.array(rnd.rand(size, size) > 0.01 * percentage, dtype=int)\n",
    "    \n",
    "    for b in b_points:\n",
    "        fields[b].field = np.copy(inctance)\n",
    "        \n",
    "    return fields"
   ]
  },
  {
   "cell_type": "markdown",
   "metadata": {},
   "source": [
    "## Initialization"
   ]
  },
  {
   "cell_type": "code",
   "execution_count": null,
   "metadata": {
    "collapsed": true
   },
   "outputs": [],
   "source": [
    "size = 33\n",
    "\n",
    "fields = init(size, seed=1)"
   ]
  },
  {
   "cell_type": "code",
   "execution_count": null,
   "metadata": {
    "collapsed": true
   },
   "outputs": [],
   "source": [
    "#Init\n",
    "size_int = widgets.BoundedIntText(\n",
    "    value=3,\n",
    "    min=3,\n",
    "    max=1000,\n",
    "    step=3,\n",
    "    description='Size:',\n",
    "    disabled=False\n",
    ")\n",
    "init_btn = widgets.ToggleButton(\n",
    "    value=False,\n",
    "    description='Init',\n",
    "    disabled=False,\n",
    "    button_style=''\n",
    ")\n",
    "def on_init_btn(current):\n",
    "    global fields\n",
    "    fields = init(size_int.value)\n",
    "    \n",
    "init_btn.observe(on_init_btn)\n",
    "    \n",
    "#Slider   \n",
    "b_sldr = widgets.Dropdown(options=b_points, description='b:', continuous_update=False)\n",
    "\n",
    "\n",
    "#Steps\n",
    "step_count_int = widgets.BoundedIntText(\n",
    "    value=1,\n",
    "    min=1,\n",
    "    max=1000,\n",
    "    step=1,\n",
    "    description='Count:',\n",
    "    disabled=False\n",
    ")\n",
    "\n",
    "step_btn = widgets.ToggleButton(\n",
    "    value=False,\n",
    "    description='Step',\n",
    "    disabled=False,\n",
    "    button_style=''\n",
    ")\n",
    "def on_step_btn(current):\n",
    "    current.value = False\n",
    "    global step_count_int\n",
    "    for i in range(step_count_int.value):\n",
    "        GameField.evolve(fields[b_sldr.value])\n",
    "        \n",
    "step_btn.observe(on_step_btn)\n",
    "\n",
    "\n",
    "ui = widgets.HBox([size_int, init_btn, b_sldr, step_count_int, step_btn])\n",
    "\n",
    "\n",
    "def f(init, b, step):\n",
    "    get_field(b)\n",
    "\n",
    "out = widgets.interactive_output(f, {'init': init_btn, 'b': b_sldr, 'step' : step_btn})\n",
    "\n",
    "display(ui, out)"
   ]
  },
  {
   "cell_type": "code",
   "execution_count": null,
   "metadata": {
    "collapsed": true
   },
   "outputs": [],
   "source": []
  },
  {
   "cell_type": "code",
   "execution_count": null,
   "metadata": {
    "collapsed": true
   },
   "outputs": [],
   "source": []
  }
 ],
 "metadata": {
  "kernelspec": {
   "display_name": "Python 3",
   "language": "python",
   "name": "python3"
  },
  "language_info": {
   "codemirror_mode": {
    "name": "ipython",
    "version": 3
   },
   "file_extension": ".py",
   "mimetype": "text/x-python",
   "name": "python",
   "nbconvert_exporter": "python",
   "pygments_lexer": "ipython3",
   "version": "3.5.2"
  }
 },
 "nbformat": 4,
 "nbformat_minor": 2
}
