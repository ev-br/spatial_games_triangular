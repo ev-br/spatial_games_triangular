{
 "cells": [
  {
   "cell_type": "code",
   "execution_count": 1,
   "metadata": {
    "collapsed": true
   },
   "outputs": [],
   "source": [
    "from Assemblies.game import GameField\n",
    "import numpy as np\n",
    "\n",
    "from fractions import Fraction\n",
    "\n",
    "%matplotlib inline\n",
    "import matplotlib.pyplot as plt\n",
    "\n",
    "np.set_printoptions(precision=3)"
   ]
  },
  {
   "cell_type": "code",
   "execution_count": 2,
   "metadata": {},
   "outputs": [],
   "source": [
    "def string_field(field):\n",
    "    \"\"\"Poor-man's viz of the game field.\"\"\"\n",
    "    s_rows = [\"\".join(str(row)[1:-1].split()) for row in field]\n",
    "    return \"\\n\".join(s_rows)\n",
    "\n",
    "\n",
    "def round_float(value):\n",
    "    return np.array([value])"
   ]
  },
  {
   "cell_type": "code",
   "execution_count": 3,
   "metadata": {
    "collapsed": true
   },
   "outputs": [],
   "source": [
    "def coop_density(field):\n",
    "    \"\"\"Cooperator is zero, defector is 1.\"\"\"\n",
    "    return 1. - np.count_nonzero(field) / field.size"
   ]
  },
  {
   "cell_type": "code",
   "execution_count": 4,
   "metadata": {},
   "outputs": [
    {
     "data": {
      "text/plain": [
       "[Fraction(7, 6),\n",
       " Fraction(6, 5),\n",
       " Fraction(5, 4),\n",
       " Fraction(4, 3),\n",
       " Fraction(7, 5),\n",
       " Fraction(3, 2),\n",
       " Fraction(5, 3),\n",
       " Fraction(7, 4),\n",
       " Fraction(2, 1),\n",
       " Fraction(7, 3),\n",
       " Fraction(5, 2)]"
      ]
     },
     "execution_count": 4,
     "metadata": {},
     "output_type": "execute_result"
    }
   ],
   "source": [
    "\"\"\"Candidate fractions (num & den <= 7).\"\"\"\n",
    "all_fracs = set()\n",
    "for den in range(1, 7+1):\n",
    "    for num in range(1, 7+1):\n",
    "        all_fracs.add(Fraction(num, den))\n",
    "fracs = [f for f in all_fracs if 1 < f < 3]\n",
    "fracs = sorted(list(fracs))\n",
    "fracs"
   ]
  },
  {
   "cell_type": "code",
   "execution_count": null,
   "metadata": {},
   "outputs": [],
   "source": [
    "L = 90\n",
    "percentage = 0.1\n",
    "\n",
    "NUM_STEPS = 10000"
   ]
  },
  {
   "cell_type": "code",
   "execution_count": null,
   "metadata": {},
   "outputs": [],
   "source": [
    "#### HERE density is density of DEFECTORS (unlike below)\n",
    "\n",
    "runs = []\n",
    "\n",
    "for frac in fracs:\n",
    "    for delta in [-1, 1]:\n",
    "        b = float(frac) + delta*1e-3\n",
    "        \n",
    "        # init\n",
    "        rndm = np.random.RandomState(12345)\n",
    "        instance = (rndm.uniform(size=(L, L)) > percentage).astype(int)\n",
    "        game = GameField(L, b)\n",
    "        game.field = instance\n",
    "        \n",
    "        this_density = coop_density(game.field)\n",
    "        this_run = {\"frac\": frac,\n",
    "                    \"b\": b,\n",
    "                    \"density\": [this_density],\n",
    "                    \"field\": [game.field]}    \n",
    "        print(\"frac =\", frac, \"+\" if delta>0 else \"-\", \"  :  density = \", round(this_density, 3), end=\" \")\n",
    "        \n",
    "        for _ in range(9):\n",
    "            game.evolveT(NUM_STEPS)\n",
    "            this_run[\"field\"].append(game.field)\n",
    "            \n",
    "            this_density = coop_density(game.field)\n",
    "            this_run[\"density\"].append(this_density)\n",
    "            print(round(this_density, 3), end=\", \")\n",
    "        \n",
    "        runs.append(this_run)\n",
    "        print()"
   ]
  },
  {
   "cell_type": "code",
   "execution_count": null,
   "metadata": {},
   "outputs": [],
   "source": [
    "Fraction(3, 4) + 0.1"
   ]
  },
  {
   "cell_type": "code",
   "execution_count": null,
   "metadata": {
    "collapsed": true
   },
   "outputs": [],
   "source": [
    "g = GameField(33, 3/4)"
   ]
  },
  {
   "cell_type": "code",
   "execution_count": null,
   "metadata": {},
   "outputs": [],
   "source": [
    "g.field[11, 11:15] = 1"
   ]
  },
  {
   "cell_type": "code",
   "execution_count": 5,
   "metadata": {
    "collapsed": true
   },
   "outputs": [],
   "source": [
    "def run_runs(L, fracs, fraction_D, num_steps, seed=12345):\n",
    "    runs = []\n",
    "    for frac in fracs:\n",
    "        for delta in [-1, 1]:\n",
    "            b = float(frac) + delta*1e-3\n",
    "\n",
    "            # init\n",
    "            rndm = np.random.RandomState(seed)\n",
    "            instance = (rndm.uniform(size=(L, L)) < fraction_D).astype(int)\n",
    "            game = GameField(L, b)\n",
    "            game.field = instance\n",
    "\n",
    "            this_density = coop_density(game.field)\n",
    "            this_run = {\"frac\": frac,\n",
    "                        \"b\": b,\n",
    "                        \"coop_density\": [this_density],\n",
    "                        \"field\": [game.field]}    \n",
    "            print(\"frac =\", frac, \"+\" if delta>0 else \"-\", \"  :  density C = \", round(this_density, 3), end=\" \")\n",
    "\n",
    "            for _ in range(7):\n",
    "                game.evolveT(num_steps)\n",
    "                this_run[\"field\"].append(game.field)\n",
    "\n",
    "                this_density = coop_density(game.field)\n",
    "                this_run[\"coop_density\"].append(this_density)\n",
    "                print(round(this_density, 3), end=\", \")\n",
    "\n",
    "            runs.append(this_run)\n",
    "            print()\n",
    "    return runs"
   ]
  },
  {
   "cell_type": "code",
   "execution_count": null,
   "metadata": {},
   "outputs": [],
   "source": [
    "results = run_runs(L=60, fracs=fracs, fraction_D=0.1, num_steps=1000)"
   ]
  },
  {
   "cell_type": "code",
   "execution_count": null,
   "metadata": {},
   "outputs": [],
   "source": [
    "fracs"
   ]
  },
  {
   "cell_type": "code",
   "execution_count": 6,
   "metadata": {},
   "outputs": [
    {
     "name": "stdout",
     "output_type": "stream",
     "text": [
      ">>>>> seed =  12345\n",
      "frac = 7/6 -   :  density C =  0.906 0.969, 0.969, 0.969, 0.969, 0.969, 0.969, 0.969, \n",
      "frac = 7/6 +   :  density C =  0.906 0.935, 0.935, 0.935, 0.935, 0.935, 0.935, 0.935, \n",
      "frac = 6/5 -   :  density C =  0.906 0.935, 0.935, 0.935, 0.935, 0.935, 0.935, 0.935, \n",
      "frac = 6/5 +   :  density C =  0.906 0.934, 0.934, 0.934, 0.934, 0.934, 0.934, 0.934, \n",
      "frac = 5/4 -   :  density C =  0.906 0.934, 0.934, 0.934, 0.934, 0.934, 0.934, 0.934, \n",
      "frac = 5/4 +   :  density C =  0.906 0.904, 0.904, 0.904, 0.904, 0.904, 0.904, 0.904, \n",
      "frac = 4/3 -   :  density C =  0.906 0.904, 0.904, 0.904, 0.904, 0.904, 0.904, 0.904, \n",
      "frac = 4/3 +   :  density C =  0.906 0.901, 0.901, 0.901, 0.901, 0.901, 0.901, 0.901, \n",
      "frac = 7/5 -   :  density C =  0.906 0.901, 0.901, 0.901, 0.901, 0.901, 0.901, 0.901, \n",
      "frac = 7/5 +   :  density C =  0.906 0.879, 0.883, 0.884, 0.879, 0.883, 0.884, 0.879, \n",
      "frac = 3/2 -   :  density C =  0.906 0.879, 0.883, 0.884, 0.879, 0.883, 0.884, 0.879, \n",
      "frac = 3/2 +   :  density C =  0.906 0.863, 0.863, 0.863, 0.863, 0.863, 0.863, 0.863, \n",
      "frac = 5/3 -   :  density C =  0.906 0.863, 0.863, 0.863, 0.863, 0.863, 0.863, 0.863, \n",
      "frac = 5/3 +   :  density C =  0.906 0.777, 0.783, 0.778, 0.777, 0.783, 0.778, 0.777, \n",
      "frac = 7/4 -   :  density C =  0.906 0.777, 0.783, 0.778, 0.777, 0.783, 0.778, 0.777, \n",
      "frac = 7/4 +   :  density C =  0.906 0.831, 0.926, 0.946, 0.951, 0.947, 0.946, 0.951, \n",
      "frac = 2 -   :  density C =  0.906 0.831, 0.926, 0.946, 0.951, 0.947, 0.946, 0.951, \n",
      "frac = 2 +   :  density C =  0.906 0.561, 0.559, 0.559, 0.561, 0.559, 0.559, 0.561, \n",
      "frac = 7/3 -   :  density C =  0.906 0.561, 0.559, 0.559, 0.561, 0.559, 0.559, 0.561, \n",
      "frac = 7/3 +   :  density C =  0.906 0.007, 0.012, 0.011, 0.007, 0.012, 0.011, 0.007, \n",
      "frac = 5/2 -   :  density C =  0.906 0.007, 0.012, 0.011, 0.007, 0.012, 0.011, 0.007, \n",
      "frac = 5/2 +   :  density C =  0.906 0.0, 0.0, 0.0, 0.0, 0.0, 0.0, 0.0, \n",
      ">>>>> seed =  12346\n",
      "frac = 7/6 -   :  density C =  0.899 0.968, 0.968, 0.968, 0.968, 0.968, 0.968, 0.968, \n",
      "frac = 7/6 +   :  density C =  0.899 0.913, 0.913, 0.913, 0.913, 0.913, 0.913, 0.913, \n",
      "frac = 6/5 -   :  density C =  0.899 0.913, 0.913, 0.913, 0.913, 0.913, 0.913, 0.913, \n",
      "frac = 6/5 +   :  density C =  0.899 0.932, 0.932, 0.932, 0.932, 0.932, 0.932, 0.932, \n",
      "frac = 5/4 -   :  density C =  0.899 0.932, 0.932, 0.932, 0.932, 0.932, 0.932, 0.932, \n",
      "frac = 5/4 +   :  density C =  0.899 0.886, 0.886, 0.886, 0.886, 0.886, 0.886, 0.886, \n",
      "frac = 4/3 -   :  density C =  0.899 0.886, 0.886, 0.886, 0.886, 0.886, 0.886, 0.886, \n",
      "frac = 4/3 +   :  density C =  0.899 0.881, 0.881, 0.881, 0.881, 0.881, 0.881, 0.881, \n",
      "frac = 7/5 -   :  density C =  0.899 0.881, 0.881, 0.881, 0.881, 0.881, 0.881, 0.881, \n",
      "frac = 7/5 +   :  density C =  0.899 0.869, 0.872, 0.873, 0.869, 0.872, 0.873, 0.869, \n",
      "frac = 3/2 -   :  density C =  0.899 0.869, 0.872, 0.873, 0.869, 0.872, 0.873, 0.869, \n",
      "frac = 3/2 +   :  density C =  0.899 0.848, 0.85, 0.847, 0.848, 0.85, 0.847, 0.848, \n",
      "frac = 5/3 -   :  density C =  0.899 0.848, 0.85, 0.847, 0.848, 0.85, 0.847, 0.848, \n",
      "frac = 5/3 +   :  density C =  0.899 0.77, 0.778, 0.782, 0.77, 0.778, 0.782, 0.77, \n",
      "frac = 7/4 -   :  density C =  0.899 0.77, 0.778, 0.782, 0.77, 0.778, 0.782, 0.77, \n",
      "frac = 7/4 +   :  density C =  0.899 0.823, 0.963, 0.961, 0.961, 0.963, 0.961, 0.961, \n",
      "frac = 2 -   :  density C =  0.899 0.823, 0.963, 0.961, 0.961, 0.963, 0.961, 0.961, \n",
      "frac = 2 +   :  density C =  0.899 0.566, 0.566, 0.567, 0.566, 0.566, 0.567, 0.566, \n",
      "frac = 7/3 -   :  density C =  0.899 0.566, 0.566, 0.567, 0.566, 0.566, 0.567, 0.566, \n",
      "frac = 7/3 +   :  density C =  0.899 0.009, 0.014, 0.013, 0.009, 0.014, 0.013, 0.009, \n",
      "frac = 5/2 -   :  density C =  0.899 0.009, 0.014, 0.013, 0.009, 0.014, 0.013, 0.009, \n",
      "frac = 5/2 +   :  density C =  0.899 0.0, 0.0, 0.0, 0.0, 0.0, 0.0, 0.0, \n",
      ">>>>> seed =  12347\n",
      "frac = 7/6 -   :  density C =  0.897 0.971, 0.971, 0.971, 0.971, 0.971, 0.971, 0.971, \n",
      "frac = 7/6 +   :  density C =  0.897 0.898, 0.898, 0.898, 0.898, 0.898, 0.898, 0.898, \n",
      "frac = 6/5 -   :  density C =  0.897 0.898, 0.898, 0.898, 0.898, 0.898, 0.898, 0.898, \n",
      "frac = 6/5 +   :  density C =  0.897 0.936, 0.936, 0.936, 0.936, 0.936, 0.936, 0.936, \n",
      "frac = 5/4 -   :  density C =  0.897 0.936, 0.936, 0.936, 0.936, 0.936, 0.936, 0.936, \n",
      "frac = 5/4 +   :  density C =  0.897 0.903, 0.903, 0.903, 0.903, 0.903, 0.903, 0.903, \n",
      "frac = 4/3 -   :  density C =  0.897 0.903, 0.903, 0.903, 0.903, 0.903, 0.903, 0.903, \n",
      "frac = 4/3 +   :  density C =  0.897 0.902, 0.902, 0.902, 0.902, 0.902, 0.902, 0.902, \n",
      "frac = 7/5 -   :  density C =  0.897 0.902, 0.902, 0.902, 0.902, 0.902, 0.902, 0.902, \n",
      "frac = 7/5 +   :  density C =  0.897 0.881, 0.879, 0.876, 0.881, 0.879, 0.876, 0.881, \n",
      "frac = 3/2 -   :  density C =  0.897 0.881, 0.879, 0.876, 0.881, 0.879, 0.876, 0.881, \n",
      "frac = 3/2 +   :  density C =  0.897 0.855, 0.854, 0.855, 0.855, 0.854, 0.855, 0.855, \n",
      "frac = 5/3 -   :  density C =  0.897 0.855, 0.854, 0.855, 0.855, 0.854, 0.855, 0.855, \n",
      "frac = 5/3 +   :  density C =  0.897 0.778, 0.78, 0.784, 0.778, 0.78, 0.784, 0.778, \n",
      "frac = 7/4 -   :  density C =  0.897 0.778, 0.78, 0.784, 0.778, 0.78, 0.784, 0.778, \n",
      "frac = 7/4 +   :  density C =  0.897 0.892, 0.96, 0.963, 0.965, 0.96, 0.963, 0.965, \n",
      "frac = 2 -   :  density C =  0.897 0.892, 0.96, 0.963, 0.965, 0.96, 0.963, 0.965, \n",
      "frac = 2 +   :  density C =  0.897 0.57, 0.569, 0.57, 0.57, 0.569, 0.57, 0.57, \n",
      "frac = 7/3 -   :  density C =  0.897 0.57, 0.569, 0.57, 0.57, 0.569, 0.57, 0.57, \n",
      "frac = 7/3 +   :  density C =  0.897 0.008, 0.008, 0.008, 0.008, 0.008, 0.008, 0.008, \n",
      "frac = 5/2 -   :  density C =  0.897 0.008, 0.008, 0.008, 0.008, 0.008, 0.008, 0.008, \n",
      "frac = 5/2 +   :  density C =  0.897 0.0, 0.0, 0.0, 0.0, 0.0, 0.0, 0.0, \n"
     ]
    }
   ],
   "source": [
    "repl_runs = {}\n",
    "for r in range(3):\n",
    "    seed = 12345 + r\n",
    "    print(\">>>>> seed = \", seed)\n",
    "    repl_runs[seed] = run_runs(L=60, fracs=fracs, fraction_D=0.1, num_steps=1000, seed=seed)"
   ]
  },
  {
   "cell_type": "code",
   "execution_count": 10,
   "metadata": {},
   "outputs": [
    {
     "name": "stdout",
     "output_type": "stream",
     "text": [
      ">>>>> seed =  123\n",
      "frac = 7/6 -   :  density C =  0.896 0.972, 0.972, 0.972, 0.972, 0.972, 0.972, 0.972, \n",
      "frac = 7/6 +   :  density C =  0.896 0.904, 0.904, 0.904, 0.904, 0.904, 0.904, 0.904, \n",
      "frac = 6/5 -   :  density C =  0.896 0.904, 0.904, 0.904, 0.904, 0.904, 0.904, 0.904, \n",
      "frac = 6/5 +   :  density C =  0.896 0.922, 0.923, 0.923, 0.922, 0.923, 0.923, 0.922, \n",
      "frac = 5/4 -   :  density C =  0.896 0.922, 0.923, 0.923, 0.922, 0.923, 0.923, 0.922, \n",
      "frac = 5/4 +   :  density C =  0.896 0.895, 0.895, 0.895, 0.895, 0.895, 0.895, 0.895, \n",
      "frac = 4/3 -   :  density C =  0.896 0.895, 0.895, 0.895, 0.895, 0.895, 0.895, 0.895, \n",
      "frac = 4/3 +   :  density C =  0.896 0.899, 0.899, 0.899, 0.899, 0.899, 0.899, 0.899, \n",
      "frac = 7/5 -   :  density C =  0.896 0.899, 0.899, 0.899, 0.899, 0.899, 0.899, 0.899, \n",
      "frac = 7/5 +   :  density C =  0.896 0.845, 0.853, 0.854, 0.845, 0.853, 0.854, 0.845, \n",
      "frac = 3/2 -   :  density C =  0.896 0.845, 0.853, 0.854, 0.845, 0.853, 0.854, 0.845, \n",
      "frac = 3/2 +   :  density C =  0.896 0.843, 0.843, 0.841, 0.843, 0.843, 0.841, 0.843, \n",
      "frac = 5/3 -   :  density C =  0.896 0.843, 0.843, 0.841, 0.843, 0.843, 0.841, 0.843, \n",
      "frac = 5/3 +   :  density C =  0.896 0.784, 0.794, 0.77, 0.784, 0.794, 0.77, 0.784, \n",
      "frac = 7/4 -   :  density C =  0.896 0.784, 0.794, 0.77, 0.784, 0.794, 0.77, 0.784, \n",
      "frac = 7/4 +   :  density C =  0.896 0.873, 0.944, 0.983, 0.985, 0.987, 0.983, 0.985, \n",
      "frac = 2 -   :  density C =  0.896 0.873, 0.944, 0.983, 0.985, 0.987, 0.983, 0.985, \n",
      "frac = 2 +   :  density C =  0.896 0.531, 0.529, 0.531, 0.531, 0.529, 0.531, 0.531, \n",
      "frac = 7/3 -   :  density C =  0.896 0.531, 0.529, 0.531, 0.531, 0.529, 0.531, 0.531, \n",
      "frac = 7/3 +   :  density C =  0.896 0.025, 0.039, 0.027, 0.025, 0.039, 0.027, 0.025, \n",
      "frac = 5/2 -   :  density C =  0.896 0.025, 0.039, 0.027, 0.025, 0.039, 0.027, 0.025, \n",
      "frac = 5/2 +   :  density C =  0.896 0.0, 0.0, 0.0, 0.0, 0.0, 0.0, 0.0, \n",
      ">>>>> seed =  124\n",
      "frac = 7/6 -   :  density C =  0.894 0.973, 0.973, 0.973, 0.973, 0.973, 0.973, 0.973, \n",
      "frac = 7/6 +   :  density C =  0.894 0.918, 0.918, 0.918, 0.918, 0.918, 0.918, 0.918, \n",
      "frac = 6/5 -   :  density C =  0.894 0.918, 0.918, 0.918, 0.918, 0.918, 0.918, 0.918, \n",
      "frac = 6/5 +   :  density C =  0.894 0.931, 0.931, 0.93, 0.931, 0.931, 0.93, 0.931, \n",
      "frac = 5/4 -   :  density C =  0.894 0.931, 0.931, 0.93, 0.931, 0.931, 0.93, 0.931, \n",
      "frac = 5/4 +   :  density C =  0.894 0.889, 0.889, 0.889, 0.889, 0.889, 0.889, 0.889, \n",
      "frac = 4/3 -   :  density C =  0.894 0.889, 0.889, 0.889, 0.889, 0.889, 0.889, 0.889, \n",
      "frac = 4/3 +   :  density C =  0.894 0.897, 0.897, 0.897, 0.897, 0.897, 0.897, 0.897, \n",
      "frac = 7/5 -   :  density C =  0.894 0.897, 0.897, 0.897, 0.897, 0.897, 0.897, 0.897, \n",
      "frac = 7/5 +   :  density C =  0.894 0.873, 0.88, 0.872, 0.873, 0.88, 0.872, 0.873, \n",
      "frac = 3/2 -   :  density C =  0.894 0.873, 0.88, 0.872, 0.873, 0.88, 0.872, 0.873, \n",
      "frac = 3/2 +   :  density C =  0.894 0.849, 0.848, 0.845, 0.848, 0.847, 0.848, 0.848, \n",
      "frac = 5/3 -   :  density C =  0.894 0.849, 0.848, 0.845, 0.848, 0.847, 0.848, 0.848, \n",
      "frac = 5/3 +   :  density C =  0.894 0.772, 0.787, 0.776, 0.772, 0.787, 0.776, 0.772, \n",
      "frac = 7/4 -   :  density C =  0.894 0.772, 0.787, 0.776, 0.772, 0.787, 0.776, 0.772, \n",
      "frac = 7/4 +   :  density C =  0.894 0.842, 0.936, 0.932, 0.943, 0.958, 0.95, 0.955, \n",
      "frac = 2 -   :  density C =  0.894 0.842, 0.936, 0.932, 0.943, 0.958, 0.95, 0.955, \n",
      "frac = 2 +   :  density C =  0.894 0.556, 0.553, 0.552, 0.556, 0.553, 0.552, 0.556, \n",
      "frac = 7/3 -   :  density C =  0.894 0.556, 0.553, 0.552, 0.556, 0.553, 0.552, 0.556, \n",
      "frac = 7/3 +   :  density C =  0.894 0.006, 0.006, 0.006, 0.006, 0.006, 0.006, 0.006, \n",
      "frac = 5/2 -   :  density C =  0.894 0.006, 0.006, 0.006, 0.006, 0.006, 0.006, 0.006, \n",
      "frac = 5/2 +   :  density C =  0.894 0.0, 0.0, 0.0, 0.0, 0.0, 0.0, 0.0, \n",
      ">>>>> seed =  125\n",
      "frac = 7/6 -   :  density C =  0.899 0.974, 0.974, 0.974, 0.974, 0.974, 0.974, 0.974, \n",
      "frac = 7/6 +   :  density C =  0.899 0.928, 0.928, 0.928, 0.928, 0.928, 0.928, 0.928, \n",
      "frac = 6/5 -   :  density C =  0.899 0.928, 0.928, 0.928, 0.928, 0.928, 0.928, 0.928, \n",
      "frac = 6/5 +   :  density C =  0.899 0.929, 0.929, 0.929, 0.929, 0.929, 0.929, 0.929, \n",
      "frac = 5/4 -   :  density C =  0.899 0.929, 0.929, 0.929, 0.929, 0.929, 0.929, 0.929, \n",
      "frac = 5/4 +   :  density C =  0.899 0.883, 0.883, 0.883, 0.883, 0.883, 0.883, 0.883, \n",
      "frac = 4/3 -   :  density C =  0.899 0.883, 0.883, 0.883, 0.883, 0.883, 0.883, 0.883, \n",
      "frac = 4/3 +   :  density C =  0.899 0.896, 0.893, 0.896, 0.896, 0.893, 0.896, 0.896, \n",
      "frac = 7/5 -   :  density C =  0.899 0.896, 0.893, 0.896, 0.896, 0.893, 0.896, 0.896, \n",
      "frac = 7/5 +   :  density C =  0.899 0.864, 0.87, 0.869, 0.864, 0.87, 0.869, 0.864, \n",
      "frac = 3/2 -   :  density C =  0.899 0.864, 0.87, 0.869, 0.864, 0.87, 0.869, 0.864, \n",
      "frac = 3/2 +   :  density C =  0.899 0.844, 0.841, 0.842, 0.843, 0.84, 0.841, 0.843, \n",
      "frac = 5/3 -   :  density C =  0.899 0.844, 0.841, 0.842, 0.843, 0.84, 0.841, 0.843, \n",
      "frac = 5/3 +   :  density C =  0.899 0.766, 0.773, 0.761, 0.765, 0.773, 0.76, 0.766, \n",
      "frac = 7/4 -   :  density C =  0.899 0.766, 0.773, 0.761, 0.765, 0.773, 0.76, 0.766, \n",
      "frac = 7/4 +   :  density C =  0.899 0.818, 0.964, 0.969, 0.974, 0.975, 0.969, 0.974, \n",
      "frac = 2 -   :  density C =  0.899 0.818, 0.964, 0.969, 0.974, 0.975, 0.969, 0.974, \n",
      "frac = 2 +   :  density C =  0.899 0.573, 0.569, 0.574, 0.574, 0.571, 0.574, 0.573, \n",
      "frac = 7/3 -   :  density C =  0.899 0.573, 0.569, 0.574, 0.574, 0.571, 0.574, 0.573, \n",
      "frac = 7/3 +   :  density C =  0.899 0.018, 0.018, 0.018, 0.018, 0.018, 0.018, 0.018, \n",
      "frac = 5/2 -   :  density C =  0.899 0.018, 0.018, 0.018, 0.018, 0.018, 0.018, 0.018, \n",
      "frac = 5/2 +   :  density C =  0.899 0.002, 0.002, 0.002, 0.002, 0.002, 0.002, 0.002, \n",
      ">>>>> seed =  126\n",
      "frac = 7/6 -   :  density C =  0.893 0.975, 0.975, 0.975, 0.975, 0.975, 0.975, 0.975, \n",
      "frac = 7/6 +   :  density C =  0.893 0.924, 0.924, 0.924, 0.924, 0.924, 0.924, 0.924, \n",
      "frac = 6/5 -   :  density C =  0.893 0.924, 0.924, 0.924, 0.924, 0.924, 0.924, 0.924, \n",
      "frac = 6/5 +   :  density C =  0.893 0.92, 0.92, 0.92, 0.92, 0.92, 0.92, 0.92, \n",
      "frac = 5/4 -   :  density C =  0.893 0.92, 0.92, 0.92, 0.92, 0.92, 0.92, 0.92, \n",
      "frac = 5/4 +   :  density C =  0.893 0.89, 0.89, 0.89, 0.89, 0.89, 0.89, 0.89, \n",
      "frac = 4/3 -   :  density C =  0.893 0.89, 0.89, 0.89, 0.89, 0.89, 0.89, 0.89, \n",
      "frac = 4/3 +   :  density C =  0.893 0.884, 0.886, 0.883, 0.884, 0.886, 0.883, 0.884, \n",
      "frac = 7/5 -   :  density C =  0.893 0.884, 0.886, 0.883, 0.884, 0.886, 0.883, 0.884, \n",
      "frac = 7/5 +   :  density C =  0.893 0.863, 0.865, 0.858, 0.863, 0.865, 0.858, 0.863, \n",
      "frac = 3/2 -   :  density C =  0.893 0.863, 0.865, 0.858, 0.863, 0.865, 0.858, 0.863, \n",
      "frac = 3/2 +   :  density C =  0.893 0.84, 0.841, 0.842, 0.84, 0.841, 0.842, 0.84, \n",
      "frac = 5/3 -   :  density C =  0.893 0.84, 0.841, 0.842, 0.84, 0.841, 0.842, 0.84, \n",
      "frac = 5/3 +   :  density C =  0.893 0.772, 0.783, 0.784, 0.771, 0.783, 0.783, 0.772, \n",
      "frac = 7/4 -   :  density C =  0.893 0.772, 0.783, 0.784, 0.771, 0.783, 0.783, 0.772, \n",
      "frac = 7/4 +   :  density C =  0.893 0.862, 0.964, 0.971, 0.969, 0.972, 0.971, 0.969, \n",
      "frac = 2 -   :  density C =  0.893 0.862, 0.964, 0.971, 0.969, 0.972, 0.971, 0.969, \n",
      "frac = 2 +   :  density C =  0.893 0.566, 0.566, 0.565, 0.566, 0.566, 0.565, 0.566, \n",
      "frac = 7/3 -   :  density C =  0.893 0.566, 0.566, 0.565, 0.566, 0.566, 0.565, 0.566, \n",
      "frac = 7/3 +   :  density C =  0.893 0.016, 0.016, 0.016, 0.016, 0.016, 0.016, 0.016, \n",
      "frac = 5/2 -   :  density C =  0.893 0.016, 0.016, 0.016, 0.016, 0.016, 0.016, 0.016, \n",
      "frac = 5/2 +   :  density C =  0.893 0.0, 0.0, 0.0, 0.0, 0.0, 0.0, 0.0, \n",
      ">>>>> seed =  127\n",
      "frac = 7/6 -   :  density C =  0.899 0.973, 0.973, 0.973, 0.973, 0.973, 0.973, 0.973, \n",
      "frac = 7/6 +   :  density C =  0.899 0.917, 0.917, 0.917, 0.917, 0.917, 0.917, 0.917, \n",
      "frac = 6/5 -   :  density C =  0.899 0.917, 0.917, 0.917, 0.917, 0.917, 0.917, 0.917, \n",
      "frac = 6/5 +   :  density C =  0.899 0.934, 0.934, 0.934, 0.934, 0.934, 0.934, 0.934, \n",
      "frac = 5/4 -   :  density C =  0.899 0.934, 0.934, 0.934, 0.934, 0.934, 0.934, 0.934, \n",
      "frac = 5/4 +   :  density C =  0.899 0.899, 0.899, 0.899, 0.899, 0.899, 0.899, 0.899, \n"
     ]
    },
    {
     "name": "stdout",
     "output_type": "stream",
     "text": [
      "frac = 4/3 -   :  density C =  0.899 0.899, 0.899, 0.899, 0.899, 0.899, 0.899, 0.899, \n",
      "frac = 4/3 +   :  density C =  0.899 0.89, 0.89, 0.89, 0.89, 0.89, 0.89, 0.89, \n",
      "frac = 7/5 -   :  density C =  0.899 0.89, 0.89, 0.89, 0.89, 0.89, 0.89, 0.89, \n",
      "frac = 7/5 +   :  density C =  0.899 0.861, 0.858, 0.86, 0.861, 0.858, 0.86, 0.861, \n",
      "frac = 3/2 -   :  density C =  0.899 0.861, 0.858, 0.86, 0.861, 0.858, 0.86, 0.861, \n",
      "frac = 3/2 +   :  density C =  0.899 0.84, 0.839, 0.837, 0.84, 0.839, 0.837, 0.84, \n",
      "frac = 5/3 -   :  density C =  0.899 0.84, 0.839, 0.837, 0.84, 0.839, 0.837, 0.84, \n",
      "frac = 5/3 +   :  density C =  0.899 0.794, 0.788, 0.799, 0.794, 0.788, 0.799, 0.794, \n",
      "frac = 7/4 -   :  density C =  0.899 0.794, 0.788, 0.799, 0.794, 0.788, 0.799, 0.794, \n",
      "frac = 7/4 +   :  density C =  0.899 0.903, 0.969, 0.963, 0.967, 0.969, 0.963, 0.967, \n",
      "frac = 2 -   :  density C =  0.899 0.903, 0.969, 0.963, 0.967, 0.969, 0.963, 0.967, \n",
      "frac = 2 +   :  density C =  0.899 0.588, 0.584, 0.589, 0.588, 0.588, 0.588, 0.588, \n",
      "frac = 7/3 -   :  density C =  0.899 0.588, 0.584, 0.589, 0.588, 0.588, 0.588, 0.588, \n",
      "frac = 7/3 +   :  density C =  0.899 0.012, 0.012, 0.012, 0.012, 0.012, 0.012, 0.012, \n",
      "frac = 5/2 -   :  density C =  0.899 0.012, 0.012, 0.012, 0.012, 0.012, 0.012, 0.012, \n",
      "frac = 5/2 +   :  density C =  0.899 0.0, 0.0, 0.0, 0.0, 0.0, 0.0, 0.0, \n"
     ]
    }
   ],
   "source": [
    "for r in range(5):\n",
    "    seed = 123 + r\n",
    "    print(\">>>>> seed = \", seed)\n",
    "    repl_runs[seed] = run_runs(L=60, fracs=fracs, fraction_D=0.1, num_steps=1000, seed=seed)"
   ]
  },
  {
   "cell_type": "code",
   "execution_count": 49,
   "metadata": {},
   "outputs": [],
   "source": [
    "import pickle\n",
    "with open(\"runs_L60perc10numsteps1000.pckl\", \"wb\") as f:\n",
    "    pickle.dump(repl_runs, f)"
   ]
  },
  {
   "cell_type": "code",
   "execution_count": null,
   "metadata": {},
   "outputs": [],
   "source": [
    "with open(\"runs_L60perc10numsteps1000.pckl\", \"rb\") as f:\n",
    "    unp = pickle.load(f)"
   ]
  },
  {
   "cell_type": "markdown",
   "metadata": {},
   "source": [
    "## D is zero C is 1, or the other way around?\n",
    "\n",
    "Square grid: The density of $\\mathcal C$ is $\\approx 0.32$ for $1.8 < b < 2$\n",
    "\n",
    "\n",
    "Code: 1 means $\\mathcal{D}$"
   ]
  },
  {
   "cell_type": "code",
   "execution_count": null,
   "metadata": {},
   "outputs": [],
   "source": [
    "LQ = 50\n",
    "\n",
    "dens = []\n",
    "for replica in range(10):\n",
    "    rndm = np.random.RandomState(12345+replica)\n",
    "    instance = (rndm.uniform(size=(LQ, LQ)) < 0.1).astype(int)\n",
    "    game = GameField(L=LQ, b=1.82)\n",
    "    game.field = instance\n",
    "    this_dens = []\n",
    "    for step in range(10):\n",
    "        game.evolveQ(1000)\n",
    "        this_dens += [1 - np.count_nonzero(game.field) / LQ**2]\n",
    "    dens += this_dens"
   ]
  },
  {
   "cell_type": "code",
   "execution_count": null,
   "metadata": {},
   "outputs": [],
   "source": [
    "dens"
   ]
  },
  {
   "cell_type": "markdown",
   "metadata": {},
   "source": [
    "# Analyze `repl_runs`"
   ]
  },
  {
   "cell_type": "code",
   "execution_count": 11,
   "metadata": {},
   "outputs": [],
   "source": [
    "dens_map = dict()\n",
    "for seed in repl_runs:\n",
    "    # smth happened to this seed, WTF?\n",
    "    if seed == 12352:\n",
    "        continue\n",
    "    for run in repl_runs[seed]:\n",
    "        b = run[\"b\"]\n",
    "        if b not in dens_map:\n",
    "            dens_map[b] = run[\"coop_density\"][1:]\n",
    "        else:\n",
    "            dens_map[b] += run[\"coop_density\"][1:]"
   ]
  },
  {
   "cell_type": "code",
   "execution_count": 13,
   "metadata": {},
   "outputs": [
    {
     "data": {
      "text/plain": [
       "dict_keys([1.749, 2.001, 1.249, 1.499, 1.251, 1.501, 2.3343333333333334, 1.6676666666666666, 2.501, 1.2009999999999998, 1.3323333333333334, 1.3343333333333331, 1.4009999999999998, 1.999, 2.3323333333333336, 2.499, 1.399, 1.6656666666666669, 1.1676666666666666, 1.199, 1.751, 1.1656666666666669])"
      ]
     },
     "execution_count": 13,
     "metadata": {},
     "output_type": "execute_result"
    }
   ],
   "source": [
    "dens_map.keys()"
   ]
  },
  {
   "cell_type": "code",
   "execution_count": 14,
   "metadata": {},
   "outputs": [],
   "source": [
    "bs = set()\n",
    "for seed in repl_runs:\n",
    "    for r in repl_runs[seed]:\n",
    "        b = r[\"b\"]\n",
    "        bs.add(b)"
   ]
  },
  {
   "cell_type": "code",
   "execution_count": 15,
   "metadata": {},
   "outputs": [
    {
     "data": {
      "text/plain": [
       "[12347, 12345, 12346, 123, 124, 125, 126, 127]"
      ]
     },
     "execution_count": 15,
     "metadata": {},
     "output_type": "execute_result"
    }
   ],
   "source": [
    "seeds = [seed for seed in repl_runs]\n",
    "seeds"
   ]
  },
  {
   "cell_type": "code",
   "execution_count": 16,
   "metadata": {},
   "outputs": [
    {
     "name": "stdout",
     "output_type": "stream",
     "text": [
      "1.1656666666666669 : 0.971701388889 0.00237511167704\n",
      "1.1676666666666666 : 0.916979166667 0.011471951083\n",
      "1.199 : 0.916979166667 0.011471951083\n",
      "1.2009999999999998 : 0.929766865079 0.00527432447218\n",
      "1.249 : 0.929766865079 0.00527432447218\n",
      "1.251 : 0.893680555556 0.00739868554809\n",
      "1.3323333333333334 : 0.893680555556 0.00739868554809\n",
      "1.3343333333333331 : 0.893715277778 0.00750689764019\n",
      "1.399 : 0.893715277778 0.00750689764019\n",
      "1.4009999999999998 : 0.868050595238 0.0102972642211\n",
      "1.499 : 0.868050595238 0.0102972642211\n",
      "1.501 : 0.847063492063 0.00766371455536\n",
      "1.6656666666666669 : 0.847063492063 0.00766371455536\n",
      "1.6676666666666666 : 0.779221230159 0.00903638473151\n",
      "1.749 : 0.779221230159 0.00903638473151\n",
      "1.751 : 0.947048611111 0.0409516548627\n",
      "1.999 : 0.947048611111 0.0409516548627\n",
      "2.001 : 0.563273809524 0.0155490627647\n",
      "2.3323333333333336 : 0.563273809524 0.0155490627647\n",
      "2.3343333333333334 : 0.0138194444444 0.00749471631933\n",
      "2.499 : 0.0138194444444 0.00749471631933\n",
      "2.501 : 0.000243055555556 0.000643064554773\n"
     ]
    }
   ],
   "source": [
    "bs, coop_dens, err_coop_dens = [], [], []\n",
    "for b in sorted(dens_map):\n",
    "    print(b, end=\" : \")\n",
    "    c_dens_av = np.mean(dens_map[b])\n",
    "    c_dens_err = np.std(dens_map[b])\n",
    "    bs.append(b)\n",
    "    coop_dens.append(c_dens_av)\n",
    "    err_coop_dens.append(c_dens_err)\n",
    "    print(c_dens_av, c_dens_err)"
   ]
  },
  {
   "cell_type": "code",
   "execution_count": 47,
   "metadata": {},
   "outputs": [
    {
     "data": {
      "text/plain": [
       "<matplotlib.text.Text at 0x7f3238095908>"
      ]
     },
     "execution_count": 47,
     "metadata": {},
     "output_type": "execute_result"
    },
    {
     "data": {
      "image/png": "[encoded data removed]",
      "text/plain": [
       "<matplotlib.figure.Figure at 0x7f3237e27f60>"
      ]
     },
     "metadata": {},
     "output_type": "display_data"
    }
   ],
   "source": [
    "fig, ax = plt.subplots()\n",
    "ax.errorbar(bs, coop_dens, yerr=err_coop_dens, fmt='o--',  elinewidth=4, ms=8)\n",
    "ax.grid(True)\n",
    "ax.set_ylabel(r'$f_C$', fontsize=18)\n",
    "ax.set_xlabel(r'$b$', fontsize=18)"
   ]
  },
  {
   "cell_type": "code",
   "execution_count": 39,
   "metadata": {},
   "outputs": [
    {
     "data": {
      "text/plain": [
       "[1.1666666666666667,\n",
       " 1.2,\n",
       " 1.25,\n",
       " 1.3333333333333333,\n",
       " 1.4,\n",
       " 1.5,\n",
       " 1.6666666666666667,\n",
       " 1.75,\n",
       " 2.0,\n",
       " 2.3333333333333335,\n",
       " 2.5]"
      ]
     },
     "execution_count": 39,
     "metadata": {},
     "output_type": "execute_result"
    }
   ],
   "source": [
    "[b + 1e-3 for b in bs[::2]]"
   ]
  },
  {
   "cell_type": "code",
   "execution_count": null,
   "metadata": {
    "collapsed": true
   },
   "outputs": [],
   "source": []
  }
 ],
 "metadata": {
  "kernelspec": {
   "display_name": "Python 3",
   "language": "python",
   "name": "python3"
  },
  "language_info": {
   "codemirror_mode": {
    "name": "ipython",
    "version": 3
   },
   "file_extension": ".py",
   "mimetype": "text/x-python",
   "name": "python",
   "nbconvert_exporter": "python",
   "pygments_lexer": "ipython3",
   "version": "3.5.2"
  }
 },
 "nbformat": 4,
 "nbformat_minor": 2
}
