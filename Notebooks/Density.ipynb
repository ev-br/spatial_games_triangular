{
 "cells": [
  {
   "cell_type": "code",
   "execution_count": 1,
   "metadata": {
    "collapsed": true
   },
   "outputs": [],
   "source": [
    "from Assemblies.game import GameField\n",
    "import numpy as np\n",
    "from numpy import random\n",
    "import time\n",
    "\n",
    "%matplotlib inline\n",
    "import matplotlib.pyplot as plt\n",
    "\n",
    "np.set_printoptions(precision=3)"
   ]
  },
  {
   "cell_type": "code",
   "execution_count": 7,
   "metadata": {},
   "outputs": [
    {
     "data": {
      "text/plain": [
       "'Evovle classic grid game.'"
      ]
     },
     "execution_count": 7,
     "metadata": {},
     "output_type": "execute_result"
    }
   ],
   "source": [
    "g = GameField(10, 1.1)\n",
    "g.evolveQ.__doc__"
   ]
  },
  {
   "cell_type": "code",
   "execution_count": 8,
   "metadata": {},
   "outputs": [
    {
     "data": {
      "text/plain": [
       "array([[0, 0, 0, 0, 0, 0, 0, 0, 0, 0],\n",
       "       [0, 0, 0, 0, 0, 0, 0, 0, 0, 0],\n",
       "       [0, 0, 0, 0, 0, 0, 0, 0, 0, 0],\n",
       "       [0, 0, 0, 0, 0, 0, 0, 0, 0, 0],\n",
       "       [0, 0, 0, 0, 0, 0, 0, 0, 0, 0],\n",
       "       [0, 0, 0, 0, 0, 0, 0, 0, 0, 0],\n",
       "       [0, 0, 0, 0, 0, 0, 0, 0, 0, 0],\n",
       "       [0, 0, 0, 0, 0, 0, 0, 0, 0, 0],\n",
       "       [0, 0, 0, 0, 0, 0, 0, 0, 0, 0],\n",
       "       [0, 0, 0, 0, 0, 0, 0, 0, 0, 0]], dtype=int32)"
      ]
     },
     "execution_count": 8,
     "metadata": {},
     "output_type": "execute_result"
    }
   ],
   "source": [
    "g.field"
   ]
  },
  {
   "cell_type": "code",
   "execution_count": 9,
   "metadata": {
    "collapsed": true,
    "scrolled": true
   },
   "outputs": [],
   "source": [
    "def calculate_density(size, game_type=\"T\", percentage=10, tries=1, start=1, end=2, step=0.05, evol=100):\n",
    "\n",
    "    b_points = np.arange(start, end, step)\n",
    "\n",
    "    #densities = np.array([0.0 for b in b_points])\n",
    "    densities = np.array([])\n",
    "    \n",
    "    for i in range(tries):\n",
    "        random.seed(i)\n",
    "        instance = np.array(random.rand(size, size) > 0.01 * percentage, dtype=int)\n",
    "\n",
    "        density = np.array([])\n",
    "\n",
    "        print(\"\\n\" + str(i) + \" >\", end=\"\")\n",
    "        for b in b_points:\n",
    "            game = GameField(size, b)\n",
    "            game.field = np.copy(instance)\n",
    "            \n",
    "            if game_type == \"T\":\n",
    "                game.evolveT(evol)\n",
    "            elif game_type == \"Q\":\n",
    "                game.evolveQ(evol)\n",
    "                \n",
    "            print(\"*\", end=\"\")\n",
    "            density = np.append(density, [[(np.count_nonzero(1 - game.field) / size**2)]])\n",
    "\n",
    "\n",
    "        densities = np.append(densities, density)\n",
    "\n",
    "    return densities.reshape(tries, -1)"
   ]
  },
  {
   "cell_type": "markdown",
   "metadata": {},
   "source": [
    "### Configuration:\n",
    "* Size: 210\n",
    "* Tries: 10\n",
    "* Evolution steps: 250\n",
    "* b = [1, 2), step = 0.02"
   ]
  },
  {
   "cell_type": "code",
   "execution_count": 10,
   "metadata": {
    "scrolled": true
   },
   "outputs": [
    {
     "name": "stdout",
     "output_type": "stream",
     "text": [
      "\n",
      "0 >********************\n",
      "1 >***"
     ]
    },
    {
     "ename": "KeyboardInterrupt",
     "evalue": "",
     "output_type": "error",
     "traceback": [
      "\u001b[0;31m---------------------------------------------------------------------------\u001b[0m",
      "\u001b[0;31mKeyboardInterrupt\u001b[0m                         Traceback (most recent call last)",
      "\u001b[0;32m<ipython-input-10-793b15dac750>\u001b[0m in \u001b[0;36m<module>\u001b[0;34m()\u001b[0m\n\u001b[0;32m----> 1\u001b[0;31m \u001b[0mdensitiesT\u001b[0m \u001b[0;34m=\u001b[0m \u001b[0mcalculate_density\u001b[0m\u001b[0;34m(\u001b[0m\u001b[0;36m210\u001b[0m\u001b[0;34m,\u001b[0m \u001b[0mstep\u001b[0m\u001b[0;34m=\u001b[0m\u001b[0;36m0.05\u001b[0m\u001b[0;34m,\u001b[0m \u001b[0mevol\u001b[0m\u001b[0;34m=\u001b[0m\u001b[0;36m250\u001b[0m\u001b[0;34m,\u001b[0m \u001b[0mtries\u001b[0m\u001b[0;34m=\u001b[0m\u001b[0;36m10\u001b[0m\u001b[0;34m,\u001b[0m \u001b[0mgame_type\u001b[0m\u001b[0;34m=\u001b[0m\u001b[0;34m\"T\"\u001b[0m\u001b[0;34m)\u001b[0m\u001b[0;34m\u001b[0m\u001b[0m\n\u001b[0m",
      "\u001b[0;32m<ipython-input-9-4aa607ab575b>\u001b[0m in \u001b[0;36mcalculate_density\u001b[0;34m(size, game_type, percentage, tries, start, end, step, evol)\u001b[0m\n\u001b[1;32m     18\u001b[0m \u001b[0;34m\u001b[0m\u001b[0m\n\u001b[1;32m     19\u001b[0m             \u001b[0;32mif\u001b[0m \u001b[0mgame_type\u001b[0m \u001b[0;34m==\u001b[0m \u001b[0;34m\"T\"\u001b[0m\u001b[0;34m:\u001b[0m\u001b[0;34m\u001b[0m\u001b[0m\n\u001b[0;32m---> 20\u001b[0;31m                 \u001b[0mgame\u001b[0m\u001b[0;34m.\u001b[0m\u001b[0mevolveT\u001b[0m\u001b[0;34m(\u001b[0m\u001b[0mevol\u001b[0m\u001b[0;34m)\u001b[0m\u001b[0;34m\u001b[0m\u001b[0m\n\u001b[0m\u001b[1;32m     21\u001b[0m             \u001b[0;32melif\u001b[0m \u001b[0mgame_type\u001b[0m \u001b[0;34m==\u001b[0m \u001b[0;34m\"Q\"\u001b[0m\u001b[0;34m:\u001b[0m\u001b[0;34m\u001b[0m\u001b[0m\n\u001b[1;32m     22\u001b[0m                 \u001b[0mgame\u001b[0m\u001b[0;34m.\u001b[0m\u001b[0mevolveQ\u001b[0m\u001b[0;34m(\u001b[0m\u001b[0mevol\u001b[0m\u001b[0;34m)\u001b[0m\u001b[0;34m\u001b[0m\u001b[0m\n",
      "\u001b[0;31mKeyboardInterrupt\u001b[0m: "
     ]
    }
   ],
   "source": [
    "densitiesT = calculate_density(210, step=0.05, evol=250, tries=10, game_type=\"T\")"
   ]
  },
  {
   "cell_type": "code",
   "execution_count": 21,
   "metadata": {},
   "outputs": [
    {
     "name": "stdout",
     "output_type": "stream",
     "text": [
      "\n",
      "0 >**************************************************\n",
      "1 >**************************************************\n",
      "2 >**************************************************\n",
      "3 >**************************************************\n",
      "4 >**************************************************\n",
      "5 >**************************************************\n",
      "6 >**************************************************\n",
      "7 >**************************************************\n",
      "8 >**************************************************\n",
      "9 >**************************************************"
     ]
    }
   ],
   "source": [
    "densitiesQ = calculate_density(210, step=0.02, evol=250, tries=10, game_type=\"Q\")"
   ]
  },
  {
   "cell_type": "code",
   "execution_count": 22,
   "metadata": {
    "collapsed": true
   },
   "outputs": [],
   "source": [
    "avr_densitiesT = sum(densitiesT) / len(densitiesT)\n",
    "\n",
    "errsT = np.array([])\n",
    "for i in range(len(avr_densitiesT)):\n",
    "    errT = np.sqrt( sum((avr_densitiesT[i] - densitiesT[::, i])**2) / len(avr_densitiesT) )\n",
    "    errsT = np.append(errsT, errT) "
   ]
  },
  {
   "cell_type": "code",
   "execution_count": 23,
   "metadata": {
    "collapsed": true
   },
   "outputs": [],
   "source": [
    "avr_densitiesQ = sum(densitiesQ) / len(densitiesQ)\n",
    "\n",
    "errsQ = np.array([])\n",
    "for i in range(len(avr_densitiesQ)):\n",
    "    errQ = np.sqrt( sum((avr_densitiesQ[i] - densitiesQ[::, i])**2) / len(avr_densitiesQ) )\n",
    "    errsQ = np.append(errsQ, errQ) "
   ]
  },
  {
   "cell_type": "code",
   "execution_count": 25,
   "metadata": {},
   "outputs": [
    {
     "data": {
      "text/plain": [
       "<ErrorbarContainer object of 3 artists>"
      ]
     },
     "execution_count": 25,
     "metadata": {},
     "output_type": "execute_result"
    },
    {
     "data": {
      "text/plain": [
       "<Figure size 432x288 with 0 Axes>"
      ]
     },
     "metadata": {},
     "output_type": "display_data"
    },
    {
     "data": {
      "image/png": "[encoded data removed]",
      "text/plain": [
       "<Figure size 720x720 with 1 Axes>"
      ]
     },
     "metadata": {},
     "output_type": "display_data"
    }
   ],
   "source": [
    "b_points = np.arange(1, 2, 0.05)\n",
    "\n",
    "scale = 10\n",
    "plt.clf()\n",
    "plt.figure(figsize = (scale, scale))\n",
    "plt.grid(True)\n",
    "\n",
    "plt.errorbar(b_points, avr_densitiesT, yerr=errsT, fmt='o', capsize=3)\n",
    "plt.errorbar(b_points, avr_densitiesQ, yerr=errsQ, fmt='o', capsize=3)"
   ]
  },
  {
   "cell_type": "code",
   "execution_count": null,
   "metadata": {
    "collapsed": true
   },
   "outputs": [],
   "source": []
  }
 ],
 "metadata": {
  "kernelspec": {
   "display_name": "Python 3",
   "language": "python",
   "name": "python3"
  },
  "language_info": {
   "codemirror_mode": {
    "name": "ipython",
    "version": 3
   },
   "file_extension": ".py",
   "mimetype": "text/x-python",
   "name": "python",
   "nbconvert_exporter": "python",
   "pygments_lexer": "ipython3",
   "version": "3.5.2"
  }
 },
 "nbformat": 4,
 "nbformat_minor": 2
}
