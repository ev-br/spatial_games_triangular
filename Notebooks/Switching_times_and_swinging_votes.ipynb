{
 "cells": [
  {
   "cell_type": "code",
   "execution_count": 4,
   "metadata": {},
   "outputs": [],
   "source": [
    "from Assemblies.game import GameField\n",
    "import numpy as np\n",
    "\n",
    "from fractions import Fraction\n",
    "\n",
    "%matplotlib notebook\n",
    "import matplotlib.pyplot as plt\n",
    "import matplotlib.animation as animation\n",
    "\n",
    "np.set_printoptions(precision=3)"
   ]
  },
  {
   "cell_type": "code",
   "execution_count": 2,
   "metadata": {
    "collapsed": true
   },
   "outputs": [],
   "source": [
    "def string_field(field):\n",
    "    \"\"\"Poor-man's viz of the game field.\"\"\"\n",
    "    s_rows = [\"\".join(str(row)[1:-1].split()) for row in field]\n",
    "    return \"\\n\".join(s_rows)"
   ]
  },
  {
   "cell_type": "code",
   "execution_count": 3,
   "metadata": {},
   "outputs": [
    {
     "data": {
      "text/plain": [
       "[Fraction(7, 6),\n",
       " Fraction(6, 5),\n",
       " Fraction(5, 4),\n",
       " Fraction(4, 3),\n",
       " Fraction(7, 5),\n",
       " Fraction(3, 2),\n",
       " Fraction(5, 3),\n",
       " Fraction(7, 4),\n",
       " Fraction(2, 1),\n",
       " Fraction(7, 3),\n",
       " Fraction(5, 2)]"
      ]
     },
     "execution_count": 3,
     "metadata": {},
     "output_type": "execute_result"
    }
   ],
   "source": [
    "\"\"\"Candidate fractions (num & den <= 7).\"\"\"\n",
    "all_fracs = set()\n",
    "for den in range(1, 7+1):\n",
    "    for num in range(1, 7+1):\n",
    "        all_fracs.add(Fraction(num, den))\n",
    "fracs = [f for f in all_fracs if 1 < f < 3]\n",
    "fracs = sorted(list(fracs))\n",
    "fracs"
   ]
  },
  {
   "cell_type": "code",
   "execution_count": 4,
   "metadata": {},
   "outputs": [
    {
     "data": {
      "text/plain": [
       "[Fraction(9, 8),\n",
       " Fraction(8, 7),\n",
       " Fraction(7, 6),\n",
       " Fraction(6, 5),\n",
       " Fraction(5, 4),\n",
       " Fraction(9, 7),\n",
       " Fraction(4, 3),\n",
       " Fraction(7, 5),\n",
       " Fraction(3, 2),\n",
       " Fraction(8, 5),\n",
       " Fraction(5, 3),\n",
       " Fraction(7, 4),\n",
       " Fraction(9, 5),\n",
       " Fraction(2, 1),\n",
       " Fraction(9, 4),\n",
       " Fraction(7, 3),\n",
       " Fraction(5, 2),\n",
       " Fraction(8, 3)]"
      ]
     },
     "execution_count": 4,
     "metadata": {},
     "output_type": "execute_result"
    }
   ],
   "source": [
    "\"\"\"Candidate fractions (num & den <= 9).\"\"\"\n",
    "all_fracsQ = set()\n",
    "for den in range(1, 9+1):\n",
    "    for num in range(1, 9+1):\n",
    "        all_fracsQ.add(Fraction(num, den))\n",
    "fracsQ = [f for f in all_fracsQ if 1 < f < 3]\n",
    "fracsQ = sorted(list(fracsQ))\n",
    "fracsQ"
   ]
  },
  {
   "cell_type": "code",
   "execution_count": 5,
   "metadata": {
    "collapsed": true
   },
   "outputs": [],
   "source": [
    "# init\n",
    "L = 30\n",
    "fraction_D = 0.1"
   ]
  },
  {
   "cell_type": "code",
   "execution_count": 6,
   "metadata": {
    "collapsed": true
   },
   "outputs": [],
   "source": [
    "def switch_time(b, game_type=\"T\", num_steps=1000, num_therm=1000, seed=12388):\n",
    "\n",
    "    rndm = np.random.RandomState(seed)\n",
    "\n",
    "    # Init the field\n",
    "    instance = (rndm.uniform(size=(L, L)) < fraction_D).astype(int)\n",
    "    game = GameField(L, b)\n",
    "    game.field = instance\n",
    "\n",
    "    # burn-in\n",
    "    evolve = {\"T\": game.evolveT,\n",
    "              \"Q\": game.evolveQ}[game_type]\n",
    "    evolve(num_therm)\n",
    "\n",
    "    snapshots = np.zeros((L, L, num_steps), dtype=int)\n",
    "    snapshots[:, :, 0] = game.field\n",
    "\n",
    "    for step in range(num_steps):\n",
    "        evolve(1)\n",
    "        snapshots[:, :, step] = game.field\n",
    "\n",
    "    # compute the switch times\n",
    "    switches = np.zeros_like(snapshots[:, :, 0], dtype=int)\n",
    "\n",
    "    for i in range(snapshots.shape[0]):\n",
    "        for j in range(snapshots.shape[1]):\n",
    "            s = snapshots[i, j, :]\n",
    "            idx, = (s[1:] - s[:-1]).nonzero()\n",
    "            switches[i, j] = idx.size + 1\n",
    "\n",
    "    return np.mean(num_steps / switches), switches"
   ]
  },
  {
   "cell_type": "code",
   "execution_count": 7,
   "metadata": {
    "collapsed": true
   },
   "outputs": [],
   "source": [
    "def compute_times(fracs, game_type=\"T\", num_steps=1000, num_therm=1000, seed=12388):\n",
    "    mean_tau = dict()\n",
    "    for frac in fracs:\n",
    "        b = frac + 1e-3\n",
    "        mean_tau[frac], _ = switch_time(b, game_type, num_steps, num_therm, seed)\n",
    "        print(frac, mean_tau[frac])\n",
    "    return mean_tau"
   ]
  },
  {
   "cell_type": "code",
   "execution_count": 146,
   "metadata": {},
   "outputs": [
    {
     "name": "stdout",
     "output_type": "stream",
     "text": [
      "7/6 820.18\n",
      "6/5 914.53\n",
      "5/4 897.88\n",
      "4/3 986.68\n",
      "7/5 830.174437781\n",
      "3/2 928.96665336\n",
      "5/3 936.771581065\n",
      "7/4 636.143917198\n",
      "2 961.162203898\n",
      "7/3 1000.0\n",
      "5/2 1000.0\n"
     ]
    }
   ],
   "source": [
    "mean_tau = compute_times(fracs, game_type=\"T\")"
   ]
  },
  {
   "cell_type": "code",
   "execution_count": 134,
   "metadata": {},
   "outputs": [
    {
     "name": "stdout",
     "output_type": "stream",
     "text": [
      "7/6 8066.86\n",
      "6/5 9388.95111067\n",
      "5/4 9044.54\n",
      "4/3 9466.72\n",
      "7/5 8166.85555467\n",
      "3/2 8800.12610997\n",
      "5/3 9422.31554789\n",
      "7/4 4386.34489095\n",
      "2 9766.69638735\n",
      "7/3 9533.47331734\n",
      "5/2 10000.0\n"
     ]
    },
    {
     "data": {
      "text/plain": [
       "{Fraction(7, 6): 8066.8599999999997,\n",
       " Fraction(6, 5): 9388.9511106667542,\n",
       " Fraction(5, 4): 9044.5400000000009,\n",
       " Fraction(4, 3): 9466.7199999999993,\n",
       " Fraction(7, 5): 8166.855554666844,\n",
       " Fraction(3, 2): 8800.1261099724125,\n",
       " Fraction(5, 3): 9422.3155478909212,\n",
       " Fraction(7, 4): 4386.3448909524786,\n",
       " Fraction(2, 1): 9766.6963873474633,\n",
       " Fraction(7, 3): 9533.4733173377335,\n",
       " Fraction(5, 2): 10000.0}"
      ]
     },
     "execution_count": 134,
     "metadata": {},
     "output_type": "execute_result"
    }
   ],
   "source": [
    "compute_times(fracs, num_steps=10000)"
   ]
  },
  {
   "cell_type": "code",
   "execution_count": 143,
   "metadata": {},
   "outputs": [
    {
     "name": "stdout",
     "output_type": "stream",
     "text": [
      "9/8 8311.28\n",
      "8/7 9266.74\n",
      "7/6 9200.08\n",
      "6/5 9911.12\n",
      "5/4 9555.6\n",
      "9/7 8455.71\n",
      "4/3 8900.11666489\n",
      "7/5 9377.86888456\n",
      "3/2 7689.26885896\n",
      "8/5 7844.70997627\n",
      "5/3 8433.49777689\n",
      "7/4 9644.49717852\n",
      "9/5 4.10713088859\n",
      "2 10000.0\n",
      "9/4 10000.0\n",
      "7/3 10000.0\n",
      "5/2 10000.0\n",
      "8/3 10000.0\n"
     ]
    },
    {
     "data": {
      "text/plain": [
       "{Fraction(9, 8): 8311.2800000000007,\n",
       " Fraction(8, 7): 9266.7399999999998,\n",
       " Fraction(7, 6): 9200.0799999999999,\n",
       " Fraction(6, 5): 9911.1200000000008,\n",
       " Fraction(5, 4): 9555.6000000000004,\n",
       " Fraction(9, 7): 8455.7099999999991,\n",
       " Fraction(4, 3): 8900.1166648892431,\n",
       " Fraction(7, 5): 9377.8688845557717,\n",
       " Fraction(3, 2): 7689.2688589556774,\n",
       " Fraction(8, 5): 7844.7099762747994,\n",
       " Fraction(5, 3): 8433.4977768890658,\n",
       " Fraction(7, 4): 9644.4971785176549,\n",
       " Fraction(9, 5): 4.1071308885921978,\n",
       " Fraction(2, 1): 10000.0,\n",
       " Fraction(9, 4): 10000.0,\n",
       " Fraction(7, 3): 10000.0,\n",
       " Fraction(5, 2): 10000.0,\n",
       " Fraction(8, 3): 10000.0}"
      ]
     },
     "execution_count": 143,
     "metadata": {},
     "output_type": "execute_result"
    }
   ],
   "source": [
    "compute_times(fracsQ, game_type=\"Q\", num_steps=int(1e4))"
   ]
  },
  {
   "cell_type": "code",
   "execution_count": 8,
   "metadata": {},
   "outputs": [],
   "source": [
    "def compute_times_and_volumes(fracs, game_type=\"T\", num_steps=1000, num_therm=1000, seed=12388):\n",
    "    mean_tau, num_swingers, tau_swingers = dict(), dict(), dict()\n",
    "    for frac in fracs:\n",
    "        b = frac + 1e-3\n",
    "        mean_tau[frac], switches = switch_time(b, game_type, num_steps, num_therm, seed)\n",
    "        \n",
    "        swingers = switches > 1\n",
    "        num_swingers[frac] = np.count_nonzero(swingers)\n",
    "        tau_swingers[frac] = np.mean(num_steps / switches[swingers])\n",
    "        print(frac, mean_tau[frac], ' - ', num_swingers[frac], ' - ', tau_swingers[frac])\n",
    "    return mean_tau, num_swingers, tau_swingers\n",
    "\n",
    "#print(\"============ T: \")\n",
    "#tauT, num_swingersT, tau_swingersT = compute_times_and_volumes(fracs, num_steps=int(2e4))\n",
    "#print(\"============ Q: \")\n",
    "#tauQ, num_swingersQ, tau_swingersQ = compute_times_and_volumes(fracsQ, game_type=\"Q\", num_steps=int(2e4))"
   ]
  },
  {
   "cell_type": "code",
   "execution_count": 36,
   "metadata": {},
   "outputs": [
    {
     "name": "stdout",
     "output_type": "stream",
     "text": [
      "========== seed =  11\n",
      "=== T: \n",
      "7/6 8200.18  -  162  -  1.0\n",
      "6/5 9144.53  -  77  -  1.0\n",
      "5/4 8977.88  -  92  -  1.0\n",
      "4/3 9866.68  -  12  -  1.0\n",
      "7/5 8300.17444378  -  153  -  1.02613986948\n",
      "3/2 9288.96666533  -  64  -  1.09373125375\n",
      "5/3 9366.77165809  -  57  -  1.65775924729\n",
      "7/4 6361.30220797  -  348  -  589.574675785\n",
      "2 9611.16222039  -  35  -  1.31423857379\n"
     ]
    },
    {
     "name": "stderr",
     "output_type": "stream",
     "text": [
      "/home/br/virtualenvs/py35/lib/python3.5/site-packages/numpy/core/fromnumeric.py:2909: RuntimeWarning: Mean of empty slice.\n",
      "  out=out, **kwargs)\n",
      "/home/br/virtualenvs/py35/lib/python3.5/site-packages/numpy/core/_methods.py:80: RuntimeWarning: invalid value encountered in double_scalars\n",
      "  ret = ret.dtype.type(ret / rcount)\n"
     ]
    },
    {
     "name": "stdout",
     "output_type": "stream",
     "text": [
      "7/3 10000.0  -  0  -  nan\n",
      "5/2 10000.0  -  0  -  nan\n",
      "=== Q: \n",
      "9/8 8589.03  -  127  -  1.0\n",
      "8/7 9555.6  -  40  -  1.0\n",
      "7/6 9555.6  -  40  -  1.0\n",
      "6/5 9644.48  -  32  -  1.0\n",
      "5/4 9822.24  -  16  -  1.0\n",
      "9/7 7889.1  -  190  -  1.0\n",
      "4/3 8900.11666567  -  99  -  1.06059697015\n",
      "7/5 9922.23388831  -  7  -  1.49992500375\n",
      "3/2 7411.5188615  -  233  -  1.57500149612\n",
      "8/5 8355.74055225  -  148  -  1.1249799035\n",
      "5/3 8833.46147733  -  105  -  1.09837715267\n",
      "7/4 9855.57  -  13  -  1.0\n",
      "9/5 4.10111122811  -  900  -  4.10111122811\n",
      "2 10000.0  -  0  -  nan\n",
      "9/4 10000.0  -  0  -  nan\n",
      "7/3 10000.0  -  0  -  nan\n",
      "5/2 10000.0  -  0  -  nan\n",
      "8/3 10000.0  -  0  -  nan\n"
     ]
    }
   ],
   "source": [
    "num_seeds = 3\n",
    "\n",
    "tauT_all, num_swT_all, tau_swT_all = [], [], []\n",
    "tauQ_all, num_swQ_all, tau_swQ_all = [], [], []\n",
    "\n",
    "for seed in [11]: #, 12388, 123]:\n",
    "    print(\"========== seed = \", seed)\n",
    "    print(\"=== T: \")\n",
    "    tauT, num_swingersT, tau_swingersT = compute_times_and_volumes(fracs, num_steps=int(10000))\n",
    "    tauT_all.append(tauT)\n",
    "    num_swT_all.append(num_swingersT)\n",
    "    tau_swT_all.append(tau_swingersT)\n",
    "    print(\"=== Q: \")\n",
    "    tauQ, num_swingersQ, tau_swingersQ = compute_times_and_volumes(fracsQ, game_type=\"Q\", num_steps=int(10000))\n",
    "    tauQ_all.append(tauQ)\n",
    "    num_swQ_all.append(num_swingersQ)\n",
    "    tau_swQ_all.append(tau_swingersQ)"
   ]
  },
  {
   "cell_type": "code",
   "execution_count": 25,
   "metadata": {
    "collapsed": true
   },
   "outputs": [],
   "source": [
    "def merge_dicts(keys, *dicts):\n",
    "    dct = {}\n",
    "    for key in keys:\n",
    "        dct[key] = [d[key] for d in dicts]\n",
    "    return dct\n",
    "\n",
    "def average_dicts(keys, *dicts):\n",
    "    dct = merge_dicts(keys, *dicts)\n",
    "    av = dict()\n",
    "    for key in dct.keys():\n",
    "        av[key] = np.mean(dct[key])\n",
    "    return av"
   ]
  },
  {
   "cell_type": "code",
   "execution_count": 26,
   "metadata": {},
   "outputs": [
    {
     "data": {
      "text/plain": [
       "{Fraction(7, 6): 820.17999999999995,\n",
       " Fraction(6, 5): 914.53000000000009,\n",
       " Fraction(5, 4): 897.88,\n",
       " Fraction(4, 3): 986.67999999999995,\n",
       " Fraction(7, 5): 830.17443778110953,\n",
       " Fraction(3, 2): 928.96665335994692,\n",
       " Fraction(5, 3): 936.77158106533773,\n",
       " Fraction(7, 4): 636.14391719774869,\n",
       " Fraction(2, 1): 961.16220389805096,\n",
       " Fraction(7, 3): 1000.0,\n",
       " Fraction(5, 2): 1000.0}"
      ]
     },
     "execution_count": 26,
     "metadata": {},
     "output_type": "execute_result"
    }
   ],
   "source": [
    "average_dicts(tauT_all[0].keys(), *tauT_all)"
   ]
  },
  {
   "cell_type": "code",
   "execution_count": 29,
   "metadata": {},
   "outputs": [
    {
     "data": {
      "text/plain": [
       "{Fraction(7, 6): 162.0,\n",
       " Fraction(6, 5): 77.0,\n",
       " Fraction(5, 4): 92.0,\n",
       " Fraction(4, 3): 12.0,\n",
       " Fraction(7, 5): 153.0,\n",
       " Fraction(3, 2): 64.0,\n",
       " Fraction(5, 3): 57.0,\n",
       " Fraction(7, 4): 348.0,\n",
       " Fraction(2, 1): 35.0,\n",
       " Fraction(7, 3): 0.0,\n",
       " Fraction(5, 2): 0.0}"
      ]
     },
     "execution_count": 29,
     "metadata": {},
     "output_type": "execute_result"
    }
   ],
   "source": [
    "average_dicts(tauT_all[0].keys(), *num_swT_all)"
   ]
  },
  {
   "cell_type": "code",
   "execution_count": 30,
   "metadata": {},
   "outputs": [
    {
     "data": {
      "text/plain": [
       "{Fraction(7, 6): 1.0,\n",
       " Fraction(6, 5): 1.0,\n",
       " Fraction(5, 4): 1.0,\n",
       " Fraction(4, 3): 1.0,\n",
       " Fraction(7, 5): 1.0261045947614429,\n",
       " Fraction(3, 2): 1.0935628742514969,\n",
       " Fraction(5, 3): 1.6565431369135606,\n",
       " Fraction(7, 4): 58.992889304522606,\n",
       " Fraction(2, 1): 1.3138145213107735,\n",
       " Fraction(7, 3): nan,\n",
       " Fraction(5, 2): nan}"
      ]
     },
     "execution_count": 30,
     "metadata": {},
     "output_type": "execute_result"
    }
   ],
   "source": [
    "average_dicts(tauT_all[0].keys(), *tau_swT_all)"
   ]
  },
  {
   "cell_type": "code",
   "execution_count": 33,
   "metadata": {},
   "outputs": [
    {
     "data": {
      "text/plain": [
       "{Fraction(7, 6): 955.60000000000002,\n",
       " Fraction(6, 5): 964.48000000000002,\n",
       " Fraction(5, 4): 982.24000000000012,\n",
       " Fraction(4, 3): 890.11665667166415,\n",
       " Fraction(7, 5): 992.23388305847084,\n",
       " Fraction(3, 2): 741.51861546767248,\n",
       " Fraction(5, 3): 883.46144011420301,\n",
       " Fraction(7, 4): 985.57000000000005,\n",
       " Fraction(2, 1): 1000.0,\n",
       " Fraction(7, 3): 1000.0,\n",
       " Fraction(5, 2): 1000.0}"
      ]
     },
     "execution_count": 33,
     "metadata": {},
     "output_type": "execute_result"
    }
   ],
   "source": [
    "average_dicts(tauT_all[0].keys(), *tauQ_all)"
   ]
  },
  {
   "cell_type": "code",
   "execution_count": 34,
   "metadata": {},
   "outputs": [
    {
     "data": {
      "text/plain": [
       "{Fraction(7, 6): 40.0,\n",
       " Fraction(6, 5): 32.0,\n",
       " Fraction(5, 4): 16.0,\n",
       " Fraction(4, 3): 99.0,\n",
       " Fraction(7, 5): 7.0,\n",
       " Fraction(3, 2): 233.0,\n",
       " Fraction(5, 3): 105.0,\n",
       " Fraction(7, 4): 13.0,\n",
       " Fraction(2, 1): 0.0,\n",
       " Fraction(7, 3): 0.0,\n",
       " Fraction(5, 2): 0.0}"
      ]
     },
     "execution_count": 34,
     "metadata": {},
     "output_type": "execute_result"
    }
   ],
   "source": [
    "average_dicts(tauT_all[0].keys(), *num_swQ_all)"
   ]
  },
  {
   "cell_type": "code",
   "execution_count": 35,
   "metadata": {},
   "outputs": [
    {
     "data": {
      "text/plain": [
       "{Fraction(7, 6): 1.0,\n",
       " Fraction(6, 5): 1.0,\n",
       " Fraction(5, 4): 1.0,\n",
       " Fraction(4, 3): 1.060515196946981,\n",
       " Fraction(7, 5): 1.4992503748125936,\n",
       " Fraction(3, 2): 1.5740511626829938,\n",
       " Fraction(5, 3): 1.0980581217408563,\n",
       " Fraction(7, 4): 1.0,\n",
       " Fraction(2, 1): nan,\n",
       " Fraction(7, 3): nan,\n",
       " Fraction(5, 2): nan}"
      ]
     },
     "execution_count": 35,
     "metadata": {},
     "output_type": "execute_result"
    }
   ],
   "source": [
    "average_dicts(tauT_all[0].keys(), *tau_swQ_all)"
   ]
  },
  {
   "cell_type": "markdown",
   "metadata": {},
   "source": [
    "# Tries and attempts"
   ]
  },
  {
   "cell_type": "code",
   "execution_count": 117,
   "metadata": {
    "collapsed": true
   },
   "outputs": [],
   "source": [
    "# init\n",
    "L = 30\n",
    "fraction_D = 0.1\n",
    "b = 1.78\n",
    "\n",
    "rndm = np.random.RandomState(12345)\n",
    "\n",
    "instance = (rndm.uniform(size=(L, L)) < fraction_D).astype(int)\n",
    "game = GameField(L, b)\n",
    "game.field = instance"
   ]
  },
  {
   "cell_type": "code",
   "execution_count": 118,
   "metadata": {},
   "outputs": [],
   "source": [
    "num_steps = 500\n",
    "\n",
    "snapshots = np.zeros((L, L, num_steps), dtype=int)\n",
    "snapshots[:, :, 0] = game.field\n",
    "\n",
    "for step in range(num_steps):\n",
    "    game.evolveQ(1)\n",
    "    snapshots[:, :, step] = game.field"
   ]
  },
  {
   "cell_type": "code",
   "execution_count": 96,
   "metadata": {},
   "outputs": [
    {
     "name": "stdout",
     "output_type": "stream",
     "text": [
      "1111100111\n",
      "1111101111\n",
      "1111101111\n",
      "1111111111\n",
      "1111111111\n",
      "1111111111\n",
      "1111111111\n",
      "1111111111\n",
      "1111111111\n",
      "1111100111\n"
     ]
    }
   ],
   "source": [
    "print(string_field(snapshots[..., -1]))"
   ]
  },
  {
   "cell_type": "code",
   "execution_count": 19,
   "metadata": {},
   "outputs": [
    {
     "data": {
      "text/plain": [
       "(10, 10)"
      ]
     },
     "execution_count": 19,
     "metadata": {},
     "output_type": "execute_result"
    }
   ],
   "source": [
    "snapshots[..., 0].shape"
   ]
  },
  {
   "cell_type": "code",
   "execution_count": 32,
   "metadata": {},
   "outputs": [
    {
     "data": {
      "text/plain": [
       "array([0, 1, 1, 1, 1, 1, 1, 1, 0, 0, 0, 0, 0, 0, 0, 0, 0, 0, 0, 0])"
      ]
     },
     "execution_count": 32,
     "metadata": {},
     "output_type": "execute_result"
    }
   ],
   "source": [
    "snapshots[1, 8, :]"
   ]
  },
  {
   "cell_type": "code",
   "execution_count": 36,
   "metadata": {},
   "outputs": [
    {
     "data": {
      "text/plain": [
       "array([ True, False, False, False, False, False, False,  True, False,\n",
       "       False, False, False, False, False, False, False, False, False, False], dtype=bool)"
      ]
     },
     "execution_count": 36,
     "metadata": {},
     "output_type": "execute_result"
    }
   ],
   "source": [
    "mask = snapshots[1, 8, 1:] != snapshots[1, 8, :-1]\n",
    "mask"
   ]
  },
  {
   "cell_type": "code",
   "execution_count": 34,
   "metadata": {},
   "outputs": [
    {
     "data": {
      "text/plain": [
       "0.89473684210526316"
      ]
     },
     "execution_count": 34,
     "metadata": {},
     "output_type": "execute_result"
    }
   ],
   "source": [
    "mask.sum() / mask.shape[0]"
   ]
  },
  {
   "cell_type": "code",
   "execution_count": 37,
   "metadata": {},
   "outputs": [
    {
     "data": {
      "text/plain": [
       "(array([0, 7]),)"
      ]
     },
     "execution_count": 37,
     "metadata": {},
     "output_type": "execute_result"
    }
   ],
   "source": [
    "mask.nonzero()"
   ]
  },
  {
   "cell_type": "code",
   "execution_count": 45,
   "metadata": {},
   "outputs": [],
   "source": [
    "nnz = (snapshots[..., 1:] != snapshots[..., :-1]).nonzero()"
   ]
  },
  {
   "cell_type": "code",
   "execution_count": 64,
   "metadata": {},
   "outputs": [
    {
     "data": {
      "text/plain": [
       "array([0, 0, 1, 1, 1, 1, 1, 1, 0, 0, 0])"
      ]
     },
     "execution_count": 64,
     "metadata": {},
     "output_type": "execute_result"
    }
   ],
   "source": [
    "s00 = snapshots[0, 0, :]\n",
    "s00"
   ]
  },
  {
   "cell_type": "code",
   "execution_count": 66,
   "metadata": {},
   "outputs": [
    {
     "data": {
      "text/plain": [
       "(array([1, 7]),)"
      ]
     },
     "execution_count": 66,
     "metadata": {},
     "output_type": "execute_result"
    }
   ],
   "source": [
    "(s00[1:] != s00[:-1]).nonzero()"
   ]
  },
  {
   "cell_type": "markdown",
   "metadata": {},
   "source": [
    "# Average switch times\n",
    "\n",
    "Switches at indices $n_1, n_2$. Pad with $0$ and $N$ (=.size-1) : have $0, n_1, n_2, N$.\n",
    "\n",
    "(Here, $n_1 = 1$, $n_2 = 7$, $N=10$)\n",
    "\n",
    "Times between switches:\n",
    "\n",
    "$$\n",
    "n_1 - 0 + 1  = 2\\\\\n",
    "n_2 - n_1 = 6 \\\\\n",
    "N - n_2  = 10 - 7 = 3\\\\\n",
    "$$\n",
    "\n",
    "Mean time is then,\n",
    "\n",
    "$$\n",
    "\\langle \\tau \\rangle = \\dfrac{(n_1 + 1) + (n_2 - n_1) + (N - n_2)}{k+1} = \\dfrac{N+1}{k+1} = \\frac{\\text{num time steps}}{\\text{len(nonzero) + 1}}\n",
    "$$"
   ]
  },
  {
   "cell_type": "code",
   "execution_count": 119,
   "metadata": {
    "collapsed": true
   },
   "outputs": [],
   "source": [
    "switches = np.zeros_like(snapshots[:, :, 0], dtype=int)\n",
    "\n",
    "for i in range(snapshots.shape[0]):\n",
    "    for j in range(snapshots.shape[1]):\n",
    "        s = snapshots[i, j, :]\n",
    "        idx, = (s[1:] - s[:-1]).nonzero()\n",
    "        switches[i, j] = idx.size + 1"
   ]
  },
  {
   "cell_type": "code",
   "execution_count": 120,
   "metadata": {},
   "outputs": [
    {
     "data": {
      "text/plain": [
       "array([[  2,   2,   2,   2,   2,   3,   2,   2,   2,   4,   4,   2,   2,\n",
       "          6,   2,   1,   1,   1,   1,   1,   1,   1,   8,   8,   4,   6,\n",
       "          1,   1,   2,   2],\n",
       "       [  2,   2,   2,   2,   2,   3,   2,   4,   2,   3,   3,   2,   2,\n",
       "          2,   2,   1,   1,   1,   1,   1,   1,   1,   2,   6,   3,   7,\n",
       "          1,   1,   1,   2],\n",
       "       [  2,   2,   2,   2,   2,   3,   2,   4,   4,   2,   2,   3,   2,\n",
       "          2,   2,   1,   1,   1,   1,   1,   1,   1,   2,   5,   2,   6,\n",
       "          1,   1,   1,   2],\n",
       "       [  3,   2,   2,   2,   3,   3,   3,   4,   2,   2,   4,   6,   6,\n",
       "          6,   6,   6,   1,   1,   1,   1,   1,   1,   1,   4,   5,   8,\n",
       "          3,   1,   1,   3],\n",
       "       [  2,   2,   2,   4,   8,   9,   8,   8,   4,   4,   2,   4,   4,\n",
       "          3,   5,   3,   1,   1,   1,   1,   1,   1,   1,   2,   3,   1,\n",
       "        495,   2,   1,   4],\n",
       "       [  1,   1,   1,   5,   1,   1,   7,   5,   4,  10,   4,   7,   3,\n",
       "          5,   6,   6,   2,   2,   1,   1,   1,   1,   1,   3,   5,   3,\n",
       "        494,   2,   1,   1],\n",
       "       [  2,   1,   3,   3,  10,   8,   8,   5,   5, 484,   3,   3,   8,\n",
       "          2,   2,   3,   3,   3,   1,   1,   1,   1,   4,   5, 494,   2,\n",
       "          2,   3,   2,   2],\n",
       "       [  2,   2,   6,   4,   7,   2,   2,   7,   7, 484,   9,   4,   6,\n",
       "          2,   2,   3,   3,   3,   2,   2,   4,   5,   6,   1,   3,   2,\n",
       "          2,   3,   1,   2],\n",
       "       [  1,   2,   3,   3,   3,   1,   1,   5,   3,   7,   7,   6,   9,\n",
       "          3,   2,   4,   4,   2,   2,   2,   2,   3,   4,   5,   5,   2,\n",
       "          2,   1,   1,   1],\n",
       "       [  1,   2,   2,   2,   1,   1,   1,   3,   3,   5,   5,   2,   5,\n",
       "          3,   2,   2,   2,   4,   2,   2,   2,   4,   3,   1,   1,   1,\n",
       "          1,   1,   1,   1],\n",
       "       [  1,   2,   2,   4,   1,   1,   1,   2,   2,   2,   3,   1,   1,\n",
       "          4,   4,   2,   2,   2,   2,   1,   3,   4,   1,   1,   1,   1,\n",
       "          1,   1,   1,   1],\n",
       "       [  1,   2,   2,   4,   1,   1,   1,   2,   2,   2,   3,   2,   1,\n",
       "          2,   2,   2,   2,   2,   2,   3,   3,   4,   1,   1,   1,   1,\n",
       "          1,   1,   1,   1],\n",
       "       [  1,   2,   3,   5,   2,   1,   1,   2,   2,   2,   2,   2,   1,\n",
       "          2,   2,   2,   2,   4,   2,   3,   5,   3,   1,   1,   1,   1,\n",
       "          1,   1,   1,   1],\n",
       "       [  3,   2,   1,   1,   2,   1,   1,   3,   3,   3,   2,   2,   1,\n",
       "          1,   7,   3,   3,   4,   2,   3,   3,   5,   1,   1,   1,   2,\n",
       "          2,   1,   2,   3],\n",
       "       [  3,   5,   7,   6, 488,   1,   1,   2,   2,   2,   2,   2,   3,\n",
       "          1, 487,   2,   2, 488,   1,   1,   3,   5,   2,   2,   2,   2,\n",
       "          1,   1,   1,   5],\n",
       "       [  3,   3,   6,   5,   5,   3,   3,   2,   2,   2,   2,   2,   3,\n",
       "          3, 489,   2,   2,   1,   1, 244,   3,   7,   2,   2,   2,   2,\n",
       "          1,   1,   3,   3],\n",
       "       [  3,   3,   6,   7,   5,   3,   3,   2,   2,   2,   2,   2,   2,\n",
       "          2,   2,   3, 486,   6,   4, 245,   4,   6,   4,   2,   2,   3,\n",
       "          4,   1,   1,   4],\n",
       "       [  3,   3,   5,   5, 492,   5,   3,   3,   3,   3,   3,   3,   3,\n",
       "          3,   3,   3, 246,   1, 243, 485, 247, 247, 246,   2,   2,   1,\n",
       "          1,   1,   3,   3],\n",
       "       [  2,   3,   3,   3,   5, 492,   3,   3,   2,   3,   2,   2,   2,\n",
       "          3,   5,   3,   2,   1,   7,   7,   9,   9,   5,   3,   4,   2,\n",
       "          2,   2,   2,   6],\n",
       "       [  6,   6,   9,   3,   5, 490,   1,   3,   2,   3,   2,   2,   2,\n",
       "          2,   1,   1,   5, 484,   6, 485,   8, 489,   6,   4,   2,   2,\n",
       "          2,   2,   4,   6],\n",
       "       [  3,   5,   4,   3,   4,   6,   6,   1,   2,   3,   2,   2,   1,\n",
       "          2,   2,   2,   2,   3,   5,   7, 485, 489,   4,   4,   4,   2,\n",
       "          2,   1,   1,   5],\n",
       "       [  5,   7,   3,   3,   3,   3,   3,   2,   1,   1,   2,   2,   5,\n",
       "          3,   2,   2,   2,   2,   2,   4,   1,   7,   2,   1,   1,   1,\n",
       "          1,   1,   1,   3],\n",
       "       [  4,   4,   5,   3,   3,   3,   2,   2,   2,   1,   1,  15,   3,\n",
       "          3,   2,   2,   2,   2,   2,   4,   1,   1,   2,   1,   1,   1,\n",
       "          1,   1,   1,   2],\n",
       "       [  3,   1,   4,   2,   2,   3,   2,   2,   2, 485,   3, 479,   5,\n",
       "          2,   2,   2,   2,   2,   2,   2,   2,   1,   2,   2,   1,   1,\n",
       "          1,   1,   1,   2],\n",
       "       [  3,   3,   7,   3,   3,   3,   2,   2,   2,  11,   1,  15,   6,\n",
       "          3,   2,   2,   2,   2,   2,   2,   2,   1,   2,   2,   1,   1,\n",
       "          1,   1,   1,   2],\n",
       "       [  2,   2,   3,   1,   3,   3,   3,   2,   2,  11,   6,  10,   4,\n",
       "          3,   2,   2,   3,   2,   2,   2,   3,   1,   1, 500,   1,   1,\n",
       "          1,   1,   1,   2],\n",
       "       [  2,   2,   3,   1,   1,   2,   2,   2,   2,   8,   7, 483,   6,\n",
       "        472,   3,   3,   3,   2,   2,   2,   3,   4,   4, 484,   1,   1,\n",
       "          1,   1,   1,   3],\n",
       "       [  4,   2,   2,   2,   2,   1,   2,   2,   2,   6,   4,   1,   1,\n",
       "          4,   2,   2,   2,   1,   1,   1,   2,   1, 486,   6,   2,   8,\n",
       "          3,   1,   2,   3],\n",
       "       [  2,   2,   2,   3,   3,   1,   1,   4,   6,   6,   6,   3,   1,\n",
       "          2,   3,   1,   1,   1,   1,   1,   1,   1,   1,   2,   4,  10,\n",
       "          1,   1,   2,   2],\n",
       "       [  2,   3,   3,   3,   3,   3,   2,   2,   1,   1,   5,   4,   2,\n",
       "          2,   8,   1,   1,   1,   1,   1,   1,   1,   7,   6,   4,   6,\n",
       "          2,   2,   2,   2]])"
      ]
     },
     "execution_count": 120,
     "metadata": {},
     "output_type": "execute_result"
    }
   ],
   "source": [
    "switches"
   ]
  },
  {
   "cell_type": "code",
   "execution_count": 121,
   "metadata": {},
   "outputs": [
    {
     "data": {
      "text/plain": [
       "260.19213816550382"
      ]
     },
     "execution_count": 121,
     "metadata": {},
     "output_type": "execute_result"
    }
   ],
   "source": [
    "np.mean(num_steps / switches)"
   ]
  },
  {
   "cell_type": "markdown",
   "metadata": {},
   "source": [
    "# Amimations"
   ]
  },
  {
   "cell_type": "code",
   "execution_count": 5,
   "metadata": {},
   "outputs": [
    {
     "data": {
      "application/javascript": [
       "/* Put everything inside the global mpl namespace */\n",
       "window.mpl = {};\n",
       "\n",
       "\n",
       "mpl.get_websocket_type = function() {\n",
       "    if (typeof(WebSocket) !== 'undefined') {\n",
       "        return WebSocket;\n",
       "    } else if (typeof(MozWebSocket) !== 'undefined') {\n",
       "        return MozWebSocket;\n",
       "    } else {\n",
       "        alert('Your browser does not have WebSocket support.' +\n",
       "              'Please try Chrome, Safari or Firefox ≥ 6. ' +\n",
       "              'Firefox 4 and 5 are also supported but you ' +\n",
       "              'have to enable WebSockets in about:config.');\n",
       "    };\n",
       "}\n",
       "\n",
       "mpl.figure = function(figure_id, websocket, ondownload, parent_element) {\n",
       "    this.id = figure_id;\n",
       "\n",
       "    this.ws = websocket;\n",
       "\n",
       "    this.supports_binary = (this.ws.binaryType != undefined);\n",
       "\n",
       "    if (!this.supports_binary) {\n",
       "        var warnings = document.getElementById(\"mpl-warnings\");\n",
       "        if (warnings) {\n",
       "            warnings.style.display = 'block';\n",
       "            warnings.textContent = (\n",
       "                \"This browser does not support binary websocket messages. \" +\n",
       "                    \"Performance may be slow.\");\n",
       "        }\n",
       "    }\n",
       "\n",
       "    this.imageObj = new Image();\n",
       "\n",
       "    this.context = undefined;\n",
       "    this.message = undefined;\n",
       "    this.canvas = undefined;\n",
       "    this.rubberband_canvas = undefined;\n",
       "    this.rubberband_context = undefined;\n",
       "    this.format_dropdown = undefined;\n",
       "\n",
       "    this.image_mode = 'full';\n",
       "\n",
       "    this.root = $('<div/>');\n",
       "    this._root_extra_style(this.root)\n",
       "    this.root.attr('style', 'display: inline-block');\n",
       "\n",
       "    $(parent_element).append(this.root);\n",
       "\n",
       "    this._init_header(this);\n",
       "    this._init_canvas(this);\n",
       "    this._init_toolbar(this);\n",
       "\n",
       "    var fig = this;\n",
       "\n",
       "    this.waiting = false;\n",
       "\n",
       "    this.ws.onopen =  function () {\n",
       "            fig.send_message(\"supports_binary\", {value: fig.supports_binary});\n",
       "            fig.send_message(\"send_image_mode\", {});\n",
       "            if (mpl.ratio != 1) {\n",
       "                fig.send_message(\"set_dpi_ratio\", {'dpi_ratio': mpl.ratio});\n",
       "            }\n",
       "            fig.send_message(\"refresh\", {});\n",
       "        }\n",
       "\n",
       "    this.imageObj.onload = function() {\n",
       "            if (fig.image_mode == 'full') {\n",
       "                // Full images could contain transparency (where diff images\n",
       "                // almost always do), so we need to clear the canvas so that\n",
       "                // there is no ghosting.\n",
       "                fig.context.clearRect(0, 0, fig.canvas.width, fig.canvas.height);\n",
       "            }\n",
       "            fig.context.drawImage(fig.imageObj, 0, 0);\n",
       "        };\n",
       "\n",
       "    this.imageObj.onunload = function() {\n",
       "        fig.ws.close();\n",
       "    }\n",
       "\n",
       "    this.ws.onmessage = this._make_on_message_function(this);\n",
       "\n",
       "    this.ondownload = ondownload;\n",
       "}\n",
       "\n",
       "mpl.figure.prototype._init_header = function() {\n",
       "    var titlebar = $(\n",
       "        '<div class=\"ui-dialog-titlebar ui-widget-header ui-corner-all ' +\n",
       "        'ui-helper-clearfix\"/>');\n",
       "    var titletext = $(\n",
       "        '<div class=\"ui-dialog-title\" style=\"width: 100%; ' +\n",
       "        'text-align: center; padding: 3px;\"/>');\n",
       "    titlebar.append(titletext)\n",
       "    this.root.append(titlebar);\n",
       "    this.header = titletext[0];\n",
       "}\n",
       "\n",
       "\n",
       "\n",
       "mpl.figure.prototype._canvas_extra_style = function(canvas_div) {\n",
       "\n",
       "}\n",
       "\n",
       "\n",
       "mpl.figure.prototype._root_extra_style = function(canvas_div) {\n",
       "\n",
       "}\n",
       "\n",
       "mpl.figure.prototype._init_canvas = function() {\n",
       "    var fig = this;\n",
       "\n",
       "    var canvas_div = $('<div/>');\n",
       "\n",
       "    canvas_div.attr('style', 'position: relative; clear: both; outline: 0');\n",
       "\n",
       "    function canvas_keyboard_event(event) {\n",
       "        return fig.key_event(event, event['data']);\n",
       "    }\n",
       "\n",
       "    canvas_div.keydown('key_press', canvas_keyboard_event);\n",
       "    canvas_div.keyup('key_release', canvas_keyboard_event);\n",
       "    this.canvas_div = canvas_div\n",
       "    this._canvas_extra_style(canvas_div)\n",
       "    this.root.append(canvas_div);\n",
       "\n",
       "    var canvas = $('<canvas/>');\n",
       "    canvas.addClass('mpl-canvas');\n",
       "    canvas.attr('style', \"left: 0; top: 0; z-index: 0; outline: 0\")\n",
       "\n",
       "    this.canvas = canvas[0];\n",
       "    this.context = canvas[0].getContext(\"2d\");\n",
       "\n",
       "    var backingStore = this.context.backingStorePixelRatio ||\n",
       "\tthis.context.webkitBackingStorePixelRatio ||\n",
       "\tthis.context.mozBackingStorePixelRatio ||\n",
       "\tthis.context.msBackingStorePixelRatio ||\n",
       "\tthis.context.oBackingStorePixelRatio ||\n",
       "\tthis.context.backingStorePixelRatio || 1;\n",
       "\n",
       "    mpl.ratio = (window.devicePixelRatio || 1) / backingStore;\n",
       "\n",
       "    var rubberband = $('<canvas/>');\n",
       "    rubberband.attr('style', \"position: absolute; left: 0; top: 0; z-index: 1;\")\n",
       "\n",
       "    var pass_mouse_events = true;\n",
       "\n",
       "    canvas_div.resizable({\n",
       "        start: function(event, ui) {\n",
       "            pass_mouse_events = false;\n",
       "        },\n",
       "        resize: function(event, ui) {\n",
       "            fig.request_resize(ui.size.width, ui.size.height);\n",
       "        },\n",
       "        stop: function(event, ui) {\n",
       "            pass_mouse_events = true;\n",
       "            fig.request_resize(ui.size.width, ui.size.height);\n",
       "        },\n",
       "    });\n",
       "\n",
       "    function mouse_event_fn(event) {\n",
       "        if (pass_mouse_events)\n",
       "            return fig.mouse_event(event, event['data']);\n",
       "    }\n",
       "\n",
       "    rubberband.mousedown('button_press', mouse_event_fn);\n",
       "    rubberband.mouseup('button_release', mouse_event_fn);\n",
       "    // Throttle sequential mouse events to 1 every 20ms.\n",
       "    rubberband.mousemove('motion_notify', mouse_event_fn);\n",
       "\n",
       "    rubberband.mouseenter('figure_enter', mouse_event_fn);\n",
       "    rubberband.mouseleave('figure_leave', mouse_event_fn);\n",
       "\n",
       "    canvas_div.on(\"wheel\", function (event) {\n",
       "        event = event.originalEvent;\n",
       "        event['data'] = 'scroll'\n",
       "        if (event.deltaY < 0) {\n",
       "            event.step = 1;\n",
       "        } else {\n",
       "            event.step = -1;\n",
       "        }\n",
       "        mouse_event_fn(event);\n",
       "    });\n",
       "\n",
       "    canvas_div.append(canvas);\n",
       "    canvas_div.append(rubberband);\n",
       "\n",
       "    this.rubberband = rubberband;\n",
       "    this.rubberband_canvas = rubberband[0];\n",
       "    this.rubberband_context = rubberband[0].getContext(\"2d\");\n",
       "    this.rubberband_context.strokeStyle = \"#000000\";\n",
       "\n",
       "    this._resize_canvas = function(width, height) {\n",
       "        // Keep the size of the canvas, canvas container, and rubber band\n",
       "        // canvas in synch.\n",
       "        canvas_div.css('width', width)\n",
       "        canvas_div.css('height', height)\n",
       "\n",
       "        canvas.attr('width', width * mpl.ratio);\n",
       "        canvas.attr('height', height * mpl.ratio);\n",
       "        canvas.attr('style', 'width: ' + width + 'px; height: ' + height + 'px;');\n",
       "\n",
       "        rubberband.attr('width', width);\n",
       "        rubberband.attr('height', height);\n",
       "    }\n",
       "\n",
       "    // Set the figure to an initial 600x600px, this will subsequently be updated\n",
       "    // upon first draw.\n",
       "    this._resize_canvas(600, 600);\n",
       "\n",
       "    // Disable right mouse context menu.\n",
       "    $(this.rubberband_canvas).bind(\"contextmenu\",function(e){\n",
       "        return false;\n",
       "    });\n",
       "\n",
       "    function set_focus () {\n",
       "        canvas.focus();\n",
       "        canvas_div.focus();\n",
       "    }\n",
       "\n",
       "    window.setTimeout(set_focus, 100);\n",
       "}\n",
       "\n",
       "mpl.figure.prototype._init_toolbar = function() {\n",
       "    var fig = this;\n",
       "\n",
       "    var nav_element = $('<div/>')\n",
       "    nav_element.attr('style', 'width: 100%');\n",
       "    this.root.append(nav_element);\n",
       "\n",
       "    // Define a callback function for later on.\n",
       "    function toolbar_event(event) {\n",
       "        return fig.toolbar_button_onclick(event['data']);\n",
       "    }\n",
       "    function toolbar_mouse_event(event) {\n",
       "        return fig.toolbar_button_onmouseover(event['data']);\n",
       "    }\n",
       "\n",
       "    for(var toolbar_ind in mpl.toolbar_items) {\n",
       "        var name = mpl.toolbar_items[toolbar_ind][0];\n",
       "        var tooltip = mpl.toolbar_items[toolbar_ind][1];\n",
       "        var image = mpl.toolbar_items[toolbar_ind][2];\n",
       "        var method_name = mpl.toolbar_items[toolbar_ind][3];\n",
       "\n",
       "        if (!name) {\n",
       "            // put a spacer in here.\n",
       "            continue;\n",
       "        }\n",
       "        var button = $('<button/>');\n",
       "        button.addClass('ui-button ui-widget ui-state-default ui-corner-all ' +\n",
       "                        'ui-button-icon-only');\n",
       "        button.attr('role', 'button');\n",
       "        button.attr('aria-disabled', 'false');\n",
       "        button.click(method_name, toolbar_event);\n",
       "        button.mouseover(tooltip, toolbar_mouse_event);\n",
       "\n",
       "        var icon_img = $('<span/>');\n",
       "        icon_img.addClass('ui-button-icon-primary ui-icon');\n",
       "        icon_img.addClass(image);\n",
       "        icon_img.addClass('ui-corner-all');\n",
       "\n",
       "        var tooltip_span = $('<span/>');\n",
       "        tooltip_span.addClass('ui-button-text');\n",
       "        tooltip_span.html(tooltip);\n",
       "\n",
       "        button.append(icon_img);\n",
       "        button.append(tooltip_span);\n",
       "\n",
       "        nav_element.append(button);\n",
       "    }\n",
       "\n",
       "    var fmt_picker_span = $('<span/>');\n",
       "\n",
       "    var fmt_picker = $('<select/>');\n",
       "    fmt_picker.addClass('mpl-toolbar-option ui-widget ui-widget-content');\n",
       "    fmt_picker_span.append(fmt_picker);\n",
       "    nav_element.append(fmt_picker_span);\n",
       "    this.format_dropdown = fmt_picker[0];\n",
       "\n",
       "    for (var ind in mpl.extensions) {\n",
       "        var fmt = mpl.extensions[ind];\n",
       "        var option = $(\n",
       "            '<option/>', {selected: fmt === mpl.default_extension}).html(fmt);\n",
       "        fmt_picker.append(option)\n",
       "    }\n",
       "\n",
       "    // Add hover states to the ui-buttons\n",
       "    $( \".ui-button\" ).hover(\n",
       "        function() { $(this).addClass(\"ui-state-hover\");},\n",
       "        function() { $(this).removeClass(\"ui-state-hover\");}\n",
       "    );\n",
       "\n",
       "    var status_bar = $('<span class=\"mpl-message\"/>');\n",
       "    nav_element.append(status_bar);\n",
       "    this.message = status_bar[0];\n",
       "}\n",
       "\n",
       "mpl.figure.prototype.request_resize = function(x_pixels, y_pixels) {\n",
       "    // Request matplotlib to resize the figure. Matplotlib will then trigger a resize in the client,\n",
       "    // which will in turn request a refresh of the image.\n",
       "    this.send_message('resize', {'width': x_pixels, 'height': y_pixels});\n",
       "}\n",
       "\n",
       "mpl.figure.prototype.send_message = function(type, properties) {\n",
       "    properties['type'] = type;\n",
       "    properties['figure_id'] = this.id;\n",
       "    this.ws.send(JSON.stringify(properties));\n",
       "}\n",
       "\n",
       "mpl.figure.prototype.send_draw_message = function() {\n",
       "    if (!this.waiting) {\n",
       "        this.waiting = true;\n",
       "        this.ws.send(JSON.stringify({type: \"draw\", figure_id: this.id}));\n",
       "    }\n",
       "}\n",
       "\n",
       "\n",
       "mpl.figure.prototype.handle_save = function(fig, msg) {\n",
       "    var format_dropdown = fig.format_dropdown;\n",
       "    var format = format_dropdown.options[format_dropdown.selectedIndex].value;\n",
       "    fig.ondownload(fig, format);\n",
       "}\n",
       "\n",
       "\n",
       "mpl.figure.prototype.handle_resize = function(fig, msg) {\n",
       "    var size = msg['size'];\n",
       "    if (size[0] != fig.canvas.width || size[1] != fig.canvas.height) {\n",
       "        fig._resize_canvas(size[0], size[1]);\n",
       "        fig.send_message(\"refresh\", {});\n",
       "    };\n",
       "}\n",
       "\n",
       "mpl.figure.prototype.handle_rubberband = function(fig, msg) {\n",
       "    var x0 = msg['x0'] / mpl.ratio;\n",
       "    var y0 = (fig.canvas.height - msg['y0']) / mpl.ratio;\n",
       "    var x1 = msg['x1'] / mpl.ratio;\n",
       "    var y1 = (fig.canvas.height - msg['y1']) / mpl.ratio;\n",
       "    x0 = Math.floor(x0) + 0.5;\n",
       "    y0 = Math.floor(y0) + 0.5;\n",
       "    x1 = Math.floor(x1) + 0.5;\n",
       "    y1 = Math.floor(y1) + 0.5;\n",
       "    var min_x = Math.min(x0, x1);\n",
       "    var min_y = Math.min(y0, y1);\n",
       "    var width = Math.abs(x1 - x0);\n",
       "    var height = Math.abs(y1 - y0);\n",
       "\n",
       "    fig.rubberband_context.clearRect(\n",
       "        0, 0, fig.canvas.width, fig.canvas.height);\n",
       "\n",
       "    fig.rubberband_context.strokeRect(min_x, min_y, width, height);\n",
       "}\n",
       "\n",
       "mpl.figure.prototype.handle_figure_label = function(fig, msg) {\n",
       "    // Updates the figure title.\n",
       "    fig.header.textContent = msg['label'];\n",
       "}\n",
       "\n",
       "mpl.figure.prototype.handle_cursor = function(fig, msg) {\n",
       "    var cursor = msg['cursor'];\n",
       "    switch(cursor)\n",
       "    {\n",
       "    case 0:\n",
       "        cursor = 'pointer';\n",
       "        break;\n",
       "    case 1:\n",
       "        cursor = 'default';\n",
       "        break;\n",
       "    case 2:\n",
       "        cursor = 'crosshair';\n",
       "        break;\n",
       "    case 3:\n",
       "        cursor = 'move';\n",
       "        break;\n",
       "    }\n",
       "    fig.rubberband_canvas.style.cursor = cursor;\n",
       "}\n",
       "\n",
       "mpl.figure.prototype.handle_message = function(fig, msg) {\n",
       "    fig.message.textContent = msg['message'];\n",
       "}\n",
       "\n",
       "mpl.figure.prototype.handle_draw = function(fig, msg) {\n",
       "    // Request the server to send over a new figure.\n",
       "    fig.send_draw_message();\n",
       "}\n",
       "\n",
       "mpl.figure.prototype.handle_image_mode = function(fig, msg) {\n",
       "    fig.image_mode = msg['mode'];\n",
       "}\n",
       "\n",
       "mpl.figure.prototype.updated_canvas_event = function() {\n",
       "    // Called whenever the canvas gets updated.\n",
       "    this.send_message(\"ack\", {});\n",
       "}\n",
       "\n",
       "// A function to construct a web socket function for onmessage handling.\n",
       "// Called in the figure constructor.\n",
       "mpl.figure.prototype._make_on_message_function = function(fig) {\n",
       "    return function socket_on_message(evt) {\n",
       "        if (evt.data instanceof Blob) {\n",
       "            /* FIXME: We get \"Resource interpreted as Image but\n",
       "             * transferred with MIME type text/plain:\" errors on\n",
       "             * Chrome.  But how to set the MIME type?  It doesn't seem\n",
       "             * to be part of the websocket stream */\n",
       "            evt.data.type = \"image/png\";\n",
       "\n",
       "            /* Free the memory for the previous frames */\n",
       "            if (fig.imageObj.src) {\n",
       "                (window.URL || window.webkitURL).revokeObjectURL(\n",
       "                    fig.imageObj.src);\n",
       "            }\n",
       "\n",
       "            fig.imageObj.src = (window.URL || window.webkitURL).createObjectURL(\n",
       "                evt.data);\n",
       "            fig.updated_canvas_event();\n",
       "            fig.waiting = false;\n",
       "            return;\n",
       "        }\n",
       "        else if (typeof evt.data === 'string' && evt.data.slice(0, 21) == \"data:image/png;base64\") {\n",
       "            fig.imageObj.src = evt.data;\n",
       "            fig.updated_canvas_event();\n",
       "            fig.waiting = false;\n",
       "            return;\n",
       "        }\n",
       "\n",
       "        var msg = JSON.parse(evt.data);\n",
       "        var msg_type = msg['type'];\n",
       "\n",
       "        // Call the  \"handle_{type}\" callback, which takes\n",
       "        // the figure and JSON message as its only arguments.\n",
       "        try {\n",
       "            var callback = fig[\"handle_\" + msg_type];\n",
       "        } catch (e) {\n",
       "            console.log(\"No handler for the '\" + msg_type + \"' message type: \", msg);\n",
       "            return;\n",
       "        }\n",
       "\n",
       "        if (callback) {\n",
       "            try {\n",
       "                // console.log(\"Handling '\" + msg_type + \"' message: \", msg);\n",
       "                callback(fig, msg);\n",
       "            } catch (e) {\n",
       "                console.log(\"Exception inside the 'handler_\" + msg_type + \"' callback:\", e, e.stack, msg);\n",
       "            }\n",
       "        }\n",
       "    };\n",
       "}\n",
       "\n",
       "// from http://stackoverflow.com/questions/1114465/getting-mouse-location-in-canvas\n",
       "mpl.findpos = function(e) {\n",
       "    //this section is from http://www.quirksmode.org/js/events_properties.html\n",
       "    var targ;\n",
       "    if (!e)\n",
       "        e = window.event;\n",
       "    if (e.target)\n",
       "        targ = e.target;\n",
       "    else if (e.srcElement)\n",
       "        targ = e.srcElement;\n",
       "    if (targ.nodeType == 3) // defeat Safari bug\n",
       "        targ = targ.parentNode;\n",
       "\n",
       "    // jQuery normalizes the pageX and pageY\n",
       "    // pageX,Y are the mouse positions relative to the document\n",
       "    // offset() returns the position of the element relative to the document\n",
       "    var x = e.pageX - $(targ).offset().left;\n",
       "    var y = e.pageY - $(targ).offset().top;\n",
       "\n",
       "    return {\"x\": x, \"y\": y};\n",
       "};\n",
       "\n",
       "/*\n",
       " * return a copy of an object with only non-object keys\n",
       " * we need this to avoid circular references\n",
       " * http://stackoverflow.com/a/24161582/3208463\n",
       " */\n",
       "function simpleKeys (original) {\n",
       "  return Object.keys(original).reduce(function (obj, key) {\n",
       "    if (typeof original[key] !== 'object')\n",
       "        obj[key] = original[key]\n",
       "    return obj;\n",
       "  }, {});\n",
       "}\n",
       "\n",
       "mpl.figure.prototype.mouse_event = function(event, name) {\n",
       "    var canvas_pos = mpl.findpos(event)\n",
       "\n",
       "    if (name === 'button_press')\n",
       "    {\n",
       "        this.canvas.focus();\n",
       "        this.canvas_div.focus();\n",
       "    }\n",
       "\n",
       "    var x = canvas_pos.x * mpl.ratio;\n",
       "    var y = canvas_pos.y * mpl.ratio;\n",
       "\n",
       "    this.send_message(name, {x: x, y: y, button: event.button,\n",
       "                             step: event.step,\n",
       "                             guiEvent: simpleKeys(event)});\n",
       "\n",
       "    /* This prevents the web browser from automatically changing to\n",
       "     * the text insertion cursor when the button is pressed.  We want\n",
       "     * to control all of the cursor setting manually through the\n",
       "     * 'cursor' event from matplotlib */\n",
       "    event.preventDefault();\n",
       "    return false;\n",
       "}\n",
       "\n",
       "mpl.figure.prototype._key_event_extra = function(event, name) {\n",
       "    // Handle any extra behaviour associated with a key event\n",
       "}\n",
       "\n",
       "mpl.figure.prototype.key_event = function(event, name) {\n",
       "\n",
       "    // Prevent repeat events\n",
       "    if (name == 'key_press')\n",
       "    {\n",
       "        if (event.which === this._key)\n",
       "            return;\n",
       "        else\n",
       "            this._key = event.which;\n",
       "    }\n",
       "    if (name == 'key_release')\n",
       "        this._key = null;\n",
       "\n",
       "    var value = '';\n",
       "    if (event.ctrlKey && event.which != 17)\n",
       "        value += \"ctrl+\";\n",
       "    if (event.altKey && event.which != 18)\n",
       "        value += \"alt+\";\n",
       "    if (event.shiftKey && event.which != 16)\n",
       "        value += \"shift+\";\n",
       "\n",
       "    value += 'k';\n",
       "    value += event.which.toString();\n",
       "\n",
       "    this._key_event_extra(event, name);\n",
       "\n",
       "    this.send_message(name, {key: value,\n",
       "                             guiEvent: simpleKeys(event)});\n",
       "    return false;\n",
       "}\n",
       "\n",
       "mpl.figure.prototype.toolbar_button_onclick = function(name) {\n",
       "    if (name == 'download') {\n",
       "        this.handle_save(this, null);\n",
       "    } else {\n",
       "        this.send_message(\"toolbar_button\", {name: name});\n",
       "    }\n",
       "};\n",
       "\n",
       "mpl.figure.prototype.toolbar_button_onmouseover = function(tooltip) {\n",
       "    this.message.textContent = tooltip;\n",
       "};\n",
       "mpl.toolbar_items = [[\"Home\", \"Reset original view\", \"fa fa-home icon-home\", \"home\"], [\"Back\", \"Back to previous view\", \"fa fa-arrow-left icon-arrow-left\", \"back\"], [\"Forward\", \"Forward to next view\", \"fa fa-arrow-right icon-arrow-right\", \"forward\"], [\"\", \"\", \"\", \"\"], [\"Pan\", \"Pan axes with left mouse, zoom with right\", \"fa fa-arrows icon-move\", \"pan\"], [\"Zoom\", \"Zoom to rectangle\", \"fa fa-square-o icon-check-empty\", \"zoom\"], [\"\", \"\", \"\", \"\"], [\"Download\", \"Download plot\", \"fa fa-floppy-o icon-save\", \"download\"]];\n",
       "\n",
       "mpl.extensions = [\"eps\", \"pdf\", \"png\", \"ps\", \"raw\", \"svg\"];\n",
       "\n",
       "mpl.default_extension = \"png\";var comm_websocket_adapter = function(comm) {\n",
       "    // Create a \"websocket\"-like object which calls the given IPython comm\n",
       "    // object with the appropriate methods. Currently this is a non binary\n",
       "    // socket, so there is still some room for performance tuning.\n",
       "    var ws = {};\n",
       "\n",
       "    ws.close = function() {\n",
       "        comm.close()\n",
       "    };\n",
       "    ws.send = function(m) {\n",
       "        //console.log('sending', m);\n",
       "        comm.send(m);\n",
       "    };\n",
       "    // Register the callback with on_msg.\n",
       "    comm.on_msg(function(msg) {\n",
       "        //console.log('receiving', msg['content']['data'], msg);\n",
       "        // Pass the mpl event to the overridden (by mpl) onmessage function.\n",
       "        ws.onmessage(msg['content']['data'])\n",
       "    });\n",
       "    return ws;\n",
       "}\n",
       "\n",
       "mpl.mpl_figure_comm = function(comm, msg) {\n",
       "    // This is the function which gets called when the mpl process\n",
       "    // starts-up an IPython Comm through the \"matplotlib\" channel.\n",
       "\n",
       "    var id = msg.content.data.id;\n",
       "    // Get hold of the div created by the display call when the Comm\n",
       "    // socket was opened in Python.\n",
       "    var element = $(\"#\" + id);\n",
       "    var ws_proxy = comm_websocket_adapter(comm)\n",
       "\n",
       "    function ondownload(figure, format) {\n",
       "        window.open(figure.imageObj.src);\n",
       "    }\n",
       "\n",
       "    var fig = new mpl.figure(id, ws_proxy,\n",
       "                           ondownload,\n",
       "                           element.get(0));\n",
       "\n",
       "    // Call onopen now - mpl needs it, as it is assuming we've passed it a real\n",
       "    // web socket which is closed, not our websocket->open comm proxy.\n",
       "    ws_proxy.onopen();\n",
       "\n",
       "    fig.parent_element = element.get(0);\n",
       "    fig.cell_info = mpl.find_output_cell(\"<div id='\" + id + \"'></div>\");\n",
       "    if (!fig.cell_info) {\n",
       "        console.error(\"Failed to find cell for figure\", id, fig);\n",
       "        return;\n",
       "    }\n",
       "\n",
       "    var output_index = fig.cell_info[2]\n",
       "    var cell = fig.cell_info[0];\n",
       "\n",
       "};\n",
       "\n",
       "mpl.figure.prototype.handle_close = function(fig, msg) {\n",
       "    var width = fig.canvas.width/mpl.ratio\n",
       "    fig.root.unbind('remove')\n",
       "\n",
       "    // Update the output cell to use the data from the current canvas.\n",
       "    fig.push_to_output();\n",
       "    var dataURL = fig.canvas.toDataURL();\n",
       "    // Re-enable the keyboard manager in IPython - without this line, in FF,\n",
       "    // the notebook keyboard shortcuts fail.\n",
       "    IPython.keyboard_manager.enable()\n",
       "    $(fig.parent_element).html('<img src=\"' + dataURL + '\" width=\"' + width + '\">');\n",
       "    fig.close_ws(fig, msg);\n",
       "}\n",
       "\n",
       "mpl.figure.prototype.close_ws = function(fig, msg){\n",
       "    fig.send_message('closing', msg);\n",
       "    // fig.ws.close()\n",
       "}\n",
       "\n",
       "mpl.figure.prototype.push_to_output = function(remove_interactive) {\n",
       "    // Turn the data on the canvas into data in the output cell.\n",
       "    var width = this.canvas.width/mpl.ratio\n",
       "    var dataURL = this.canvas.toDataURL();\n",
       "    this.cell_info[1]['text/html'] = '<img src=\"' + dataURL + '\" width=\"' + width + '\">';\n",
       "}\n",
       "\n",
       "mpl.figure.prototype.updated_canvas_event = function() {\n",
       "    // Tell IPython that the notebook contents must change.\n",
       "    IPython.notebook.set_dirty(true);\n",
       "    this.send_message(\"ack\", {});\n",
       "    var fig = this;\n",
       "    // Wait a second, then push the new image to the DOM so\n",
       "    // that it is saved nicely (might be nice to debounce this).\n",
       "    setTimeout(function () { fig.push_to_output() }, 1000);\n",
       "}\n",
       "\n",
       "mpl.figure.prototype._init_toolbar = function() {\n",
       "    var fig = this;\n",
       "\n",
       "    var nav_element = $('<div/>')\n",
       "    nav_element.attr('style', 'width: 100%');\n",
       "    this.root.append(nav_element);\n",
       "\n",
       "    // Define a callback function for later on.\n",
       "    function toolbar_event(event) {\n",
       "        return fig.toolbar_button_onclick(event['data']);\n",
       "    }\n",
       "    function toolbar_mouse_event(event) {\n",
       "        return fig.toolbar_button_onmouseover(event['data']);\n",
       "    }\n",
       "\n",
       "    for(var toolbar_ind in mpl.toolbar_items){\n",
       "        var name = mpl.toolbar_items[toolbar_ind][0];\n",
       "        var tooltip = mpl.toolbar_items[toolbar_ind][1];\n",
       "        var image = mpl.toolbar_items[toolbar_ind][2];\n",
       "        var method_name = mpl.toolbar_items[toolbar_ind][3];\n",
       "\n",
       "        if (!name) { continue; };\n",
       "\n",
       "        var button = $('<button class=\"btn btn-default\" href=\"#\" title=\"' + name + '\"><i class=\"fa ' + image + ' fa-lg\"></i></button>');\n",
       "        button.click(method_name, toolbar_event);\n",
       "        button.mouseover(tooltip, toolbar_mouse_event);\n",
       "        nav_element.append(button);\n",
       "    }\n",
       "\n",
       "    // Add the status bar.\n",
       "    var status_bar = $('<span class=\"mpl-message\" style=\"text-align:right; float: right;\"/>');\n",
       "    nav_element.append(status_bar);\n",
       "    this.message = status_bar[0];\n",
       "\n",
       "    // Add the close button to the window.\n",
       "    var buttongrp = $('<div class=\"btn-group inline pull-right\"></div>');\n",
       "    var button = $('<button class=\"btn btn-mini btn-primary\" href=\"#\" title=\"Stop Interaction\"><i class=\"fa fa-power-off icon-remove icon-large\"></i></button>');\n",
       "    button.click(function (evt) { fig.handle_close(fig, {}); } );\n",
       "    button.mouseover('Stop Interaction', toolbar_mouse_event);\n",
       "    buttongrp.append(button);\n",
       "    var titlebar = this.root.find($('.ui-dialog-titlebar'));\n",
       "    titlebar.prepend(buttongrp);\n",
       "}\n",
       "\n",
       "mpl.figure.prototype._root_extra_style = function(el){\n",
       "    var fig = this\n",
       "    el.on(\"remove\", function(){\n",
       "\tfig.close_ws(fig, {});\n",
       "    });\n",
       "}\n",
       "\n",
       "mpl.figure.prototype._canvas_extra_style = function(el){\n",
       "    // this is important to make the div 'focusable\n",
       "    el.attr('tabindex', 0)\n",
       "    // reach out to IPython and tell the keyboard manager to turn it's self\n",
       "    // off when our div gets focus\n",
       "\n",
       "    // location in version 3\n",
       "    if (IPython.notebook.keyboard_manager) {\n",
       "        IPython.notebook.keyboard_manager.register_events(el);\n",
       "    }\n",
       "    else {\n",
       "        // location in version 2\n",
       "        IPython.keyboard_manager.register_events(el);\n",
       "    }\n",
       "\n",
       "}\n",
       "\n",
       "mpl.figure.prototype._key_event_extra = function(event, name) {\n",
       "    var manager = IPython.notebook.keyboard_manager;\n",
       "    if (!manager)\n",
       "        manager = IPython.keyboard_manager;\n",
       "\n",
       "    // Check for shift+enter\n",
       "    if (event.shiftKey && event.which == 13) {\n",
       "        this.canvas_div.blur();\n",
       "        event.shiftKey = false;\n",
       "        // Send a \"J\" for go to next cell\n",
       "        event.which = 74;\n",
       "        event.keyCode = 74;\n",
       "        manager.command_mode();\n",
       "        manager.handle_keydown(event);\n",
       "    }\n",
       "}\n",
       "\n",
       "mpl.figure.prototype.handle_save = function(fig, msg) {\n",
       "    fig.ondownload(fig, null);\n",
       "}\n",
       "\n",
       "\n",
       "mpl.find_output_cell = function(html_output) {\n",
       "    // Return the cell and output element which can be found *uniquely* in the notebook.\n",
       "    // Note - this is a bit hacky, but it is done because the \"notebook_saving.Notebook\"\n",
       "    // IPython event is triggered only after the cells have been serialised, which for\n",
       "    // our purposes (turning an active figure into a static one), is too late.\n",
       "    var cells = IPython.notebook.get_cells();\n",
       "    var ncells = cells.length;\n",
       "    for (var i=0; i<ncells; i++) {\n",
       "        var cell = cells[i];\n",
       "        if (cell.cell_type === 'code'){\n",
       "            for (var j=0; j<cell.output_area.outputs.length; j++) {\n",
       "                var data = cell.output_area.outputs[j];\n",
       "                if (data.data) {\n",
       "                    // IPython >= 3 moved mimebundle to data attribute of output\n",
       "                    data = data.data;\n",
       "                }\n",
       "                if (data['text/html'] == html_output) {\n",
       "                    return [cell, data, j];\n",
       "                }\n",
       "            }\n",
       "        }\n",
       "    }\n",
       "}\n",
       "\n",
       "// Register the function which deals with the matplotlib target/channel.\n",
       "// The kernel may be null if the page has been refreshed.\n",
       "if (IPython.notebook.kernel != null) {\n",
       "    IPython.notebook.kernel.comm_manager.register_target('matplotlib', mpl.mpl_figure_comm);\n",
       "}\n"
      ],
      "text/plain": [
       "<IPython.core.display.Javascript object>"
      ]
     },
     "metadata": {},
     "output_type": "display_data"
    },
    {
     "data": {
      "text/html": [
       "<img src=\"data:image/png;base64,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\" width=\"640\">"
      ],
      "text/plain": [
       "<IPython.core.display.HTML object>"
      ]
     },
     "metadata": {},
     "output_type": "display_data"
    }
   ],
   "source": [
    "fig2 = plt.figure()\n",
    "\n",
    "x = np.arange(-9, 10)\n",
    "y = np.arange(-9, 10).reshape(-1, 1)\n",
    "base = np.hypot(x, y)\n",
    "ims = []\n",
    "for add in np.arange(15):\n",
    "    ims.append((plt.pcolor(x, y, base + add, norm=plt.Normalize(0, 30)),))\n",
    "\n",
    "im_ani = animation.ArtistAnimation(fig2, ims, interval=50, repeat_delay=3000,\n",
    "                                   blit=True)\n",
    "# To save this second animation with some metadata, use the following command:\n",
    "# im_ani.save('im.mp4', metadata={'artist':'Guido'})\n",
    "\n",
    "plt.show()"
   ]
  },
  {
   "cell_type": "code",
   "execution_count": null,
   "metadata": {
    "collapsed": true
   },
   "outputs": [],
   "source": []
  }
 ],
 "metadata": {
  "kernelspec": {
   "display_name": "Python 3",
   "language": "python",
   "name": "python3"
  },
  "language_info": {
   "codemirror_mode": {
    "name": "ipython",
    "version": 3
   },
   "file_extension": ".py",
   "mimetype": "text/x-python",
   "name": "python",
   "nbconvert_exporter": "python",
   "pygments_lexer": "ipython3",
   "version": "3.5.2"
  }
 },
 "nbformat": 4,
 "nbformat_minor": 2
}
