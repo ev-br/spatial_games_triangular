{
 "cells": [
  {
   "cell_type": "code",
   "execution_count": 4,
   "metadata": {},
   "outputs": [],
   "source": [
    "from Assemblies.game import GameField\n",
    "import numpy as np\n",
    "\n",
    "from fractions import Fraction\n",
    "\n",
    "%matplotlib notebook\n",
    "import matplotlib.pyplot as plt\n",
    "import matplotlib.animation as animation\n",
    "\n",
    "np.set_printoptions(precision=3)"
   ]
  },
  {
   "cell_type": "code",
   "execution_count": 2,
   "metadata": {
    "collapsed": true
   },
   "outputs": [],
   "source": [
    "def string_field(field):\n",
    "    \"\"\"Poor-man's viz of the game field.\"\"\"\n",
    "    s_rows = [\"\".join(str(row)[1:-1].split()) for row in field]\n",
    "    return \"\\n\".join(s_rows)"
   ]
  },
  {
   "cell_type": "code",
   "execution_count": 3,
   "metadata": {},
   "outputs": [
    {
     "data": {
      "text/plain": [
       "[Fraction(7, 6),\n",
       " Fraction(6, 5),\n",
       " Fraction(5, 4),\n",
       " Fraction(4, 3),\n",
       " Fraction(7, 5),\n",
       " Fraction(3, 2),\n",
       " Fraction(5, 3),\n",
       " Fraction(7, 4),\n",
       " Fraction(2, 1),\n",
       " Fraction(7, 3),\n",
       " Fraction(5, 2)]"
      ]
     },
     "execution_count": 3,
     "metadata": {},
     "output_type": "execute_result"
    }
   ],
   "source": [
    "\"\"\"Candidate fractions (num & den <= 7).\"\"\"\n",
    "all_fracs = set()\n",
    "for den in range(1, 7+1):\n",
    "    for num in range(1, 7+1):\n",
    "        all_fracs.add(Fraction(num, den))\n",
    "fracs = [f for f in all_fracs if 1 < f < 3]\n",
    "fracs = sorted(list(fracs))\n",
    "fracs"
   ]
  },
  {
   "cell_type": "code",
   "execution_count": 4,
   "metadata": {},
   "outputs": [
    {
     "data": {
      "text/plain": [
       "[Fraction(9, 8),\n",
       " Fraction(8, 7),\n",
       " Fraction(7, 6),\n",
       " Fraction(6, 5),\n",
       " Fraction(5, 4),\n",
       " Fraction(9, 7),\n",
       " Fraction(4, 3),\n",
       " Fraction(7, 5),\n",
       " Fraction(3, 2),\n",
       " Fraction(8, 5),\n",
       " Fraction(5, 3),\n",
       " Fraction(7, 4),\n",
       " Fraction(9, 5),\n",
       " Fraction(2, 1),\n",
       " Fraction(9, 4),\n",
       " Fraction(7, 3),\n",
       " Fraction(5, 2),\n",
       " Fraction(8, 3)]"
      ]
     },
     "execution_count": 4,
     "metadata": {},
     "output_type": "execute_result"
    }
   ],
   "source": [
    "\"\"\"Candidate fractions (num & den <= 9).\"\"\"\n",
    "all_fracsQ = set()\n",
    "for den in range(1, 9+1):\n",
    "    for num in range(1, 9+1):\n",
    "        all_fracsQ.add(Fraction(num, den))\n",
    "fracsQ = [f for f in all_fracsQ if 1 < f < 3]\n",
    "fracsQ = sorted(list(fracsQ))\n",
    "fracsQ"
   ]
  },
  {
   "cell_type": "code",
   "execution_count": 5,
   "metadata": {
    "collapsed": true
   },
   "outputs": [],
   "source": [
    "# init\n",
    "L = 30\n",
    "fraction_D = 0.1"
   ]
  },
  {
   "cell_type": "code",
   "execution_count": 6,
   "metadata": {
    "collapsed": true
   },
   "outputs": [],
   "source": [
    "def switch_time(b, game_type=\"T\", num_steps=1000, num_therm=1000, seed=12388):\n",
    "\n",
    "    rndm = np.random.RandomState(seed)\n",
    "\n",
    "    # Init the field\n",
    "    instance = (rndm.uniform(size=(L, L)) < fraction_D).astype(int)\n",
    "    game = GameField(L, b)\n",
    "    game.field = instance\n",
    "\n",
    "    # burn-in\n",
    "    evolve = {\"T\": game.evolveT,\n",
    "              \"Q\": game.evolveQ}[game_type]\n",
    "    evolve(num_therm)\n",
    "\n",
    "    snapshots = np.zeros((L, L, num_steps), dtype=int)\n",
    "    snapshots[:, :, 0] = game.field\n",
    "\n",
    "    for step in range(num_steps):\n",
    "        evolve(1)\n",
    "        snapshots[:, :, step] = game.field\n",
    "\n",
    "    # compute the switch times\n",
    "    switches = np.zeros_like(snapshots[:, :, 0], dtype=int)\n",
    "\n",
    "    for i in range(snapshots.shape[0]):\n",
    "        for j in range(snapshots.shape[1]):\n",
    "            s = snapshots[i, j, :]\n",
    "            idx, = (s[1:] - s[:-1]).nonzero()\n",
    "            switches[i, j] = idx.size + 1\n",
    "\n",
    "    return np.mean(num_steps / switches), switches"
   ]
  },
  {
   "cell_type": "code",
   "execution_count": 7,
   "metadata": {
    "collapsed": true
   },
   "outputs": [],
   "source": [
    "def compute_times(fracs, game_type=\"T\", num_steps=1000, num_therm=1000, seed=12388):\n",
    "    mean_tau = dict()\n",
    "    for frac in fracs:\n",
    "        b = frac + 1e-3\n",
    "        mean_tau[frac], _ = switch_time(b, game_type, num_steps, num_therm, seed)\n",
    "        print(frac, mean_tau[frac])\n",
    "    return mean_tau"
   ]
  },
  {
   "cell_type": "code",
   "execution_count": 146,
   "metadata": {},
   "outputs": [
    {
     "name": "stdout",
     "output_type": "stream",
     "text": [
      "7/6 820.18\n",
      "6/5 914.53\n",
      "5/4 897.88\n",
      "4/3 986.68\n",
      "7/5 830.174437781\n",
      "3/2 928.96665336\n",
      "5/3 936.771581065\n",
      "7/4 636.143917198\n",
      "2 961.162203898\n",
      "7/3 1000.0\n",
      "5/2 1000.0\n"
     ]
    }
   ],
   "source": [
    "mean_tau = compute_times(fracs, game_type=\"T\")"
   ]
  },
  {
   "cell_type": "code",
   "execution_count": 134,
   "metadata": {},
   "outputs": [
    {
     "name": "stdout",
     "output_type": "stream",
     "text": [
      "7/6 8066.86\n",
      "6/5 9388.95111067\n",
      "5/4 9044.54\n",
      "4/3 9466.72\n",
      "7/5 8166.85555467\n",
      "3/2 8800.12610997\n",
      "5/3 9422.31554789\n",
      "7/4 4386.34489095\n",
      "2 9766.69638735\n",
      "7/3 9533.47331734\n",
      "5/2 10000.0\n"
     ]
    },
    {
     "data": {
      "text/plain": [
       "{Fraction(7, 6): 8066.8599999999997,\n",
       " Fraction(6, 5): 9388.9511106667542,\n",
       " Fraction(5, 4): 9044.5400000000009,\n",
       " Fraction(4, 3): 9466.7199999999993,\n",
       " Fraction(7, 5): 8166.855554666844,\n",
       " Fraction(3, 2): 8800.1261099724125,\n",
       " Fraction(5, 3): 9422.3155478909212,\n",
       " Fraction(7, 4): 4386.3448909524786,\n",
       " Fraction(2, 1): 9766.6963873474633,\n",
       " Fraction(7, 3): 9533.4733173377335,\n",
       " Fraction(5, 2): 10000.0}"
      ]
     },
     "execution_count": 134,
     "metadata": {},
     "output_type": "execute_result"
    }
   ],
   "source": [
    "compute_times(fracs, num_steps=10000)"
   ]
  },
  {
   "cell_type": "code",
   "execution_count": 143,
   "metadata": {},
   "outputs": [
    {
     "name": "stdout",
     "output_type": "stream",
     "text": [
      "9/8 8311.28\n",
      "8/7 9266.74\n",
      "7/6 9200.08\n",
      "6/5 9911.12\n",
      "5/4 9555.6\n",
      "9/7 8455.71\n",
      "4/3 8900.11666489\n",
      "7/5 9377.86888456\n",
      "3/2 7689.26885896\n",
      "8/5 7844.70997627\n",
      "5/3 8433.49777689\n",
      "7/4 9644.49717852\n",
      "9/5 4.10713088859\n",
      "2 10000.0\n",
      "9/4 10000.0\n",
      "7/3 10000.0\n",
      "5/2 10000.0\n",
      "8/3 10000.0\n"
     ]
    },
    {
     "data": {
      "text/plain": [
       "{Fraction(9, 8): 8311.2800000000007,\n",
       " Fraction(8, 7): 9266.7399999999998,\n",
       " Fraction(7, 6): 9200.0799999999999,\n",
       " Fraction(6, 5): 9911.1200000000008,\n",
       " Fraction(5, 4): 9555.6000000000004,\n",
       " Fraction(9, 7): 8455.7099999999991,\n",
       " Fraction(4, 3): 8900.1166648892431,\n",
       " Fraction(7, 5): 9377.8688845557717,\n",
       " Fraction(3, 2): 7689.2688589556774,\n",
       " Fraction(8, 5): 7844.7099762747994,\n",
       " Fraction(5, 3): 8433.4977768890658,\n",
       " Fraction(7, 4): 9644.4971785176549,\n",
       " Fraction(9, 5): 4.1071308885921978,\n",
       " Fraction(2, 1): 10000.0,\n",
       " Fraction(9, 4): 10000.0,\n",
       " Fraction(7, 3): 10000.0,\n",
       " Fraction(5, 2): 10000.0,\n",
       " Fraction(8, 3): 10000.0}"
      ]
     },
     "execution_count": 143,
     "metadata": {},
     "output_type": "execute_result"
    }
   ],
   "source": [
    "compute_times(fracsQ, game_type=\"Q\", num_steps=int(1e4))"
   ]
  },
  {
   "cell_type": "code",
   "execution_count": 8,
   "metadata": {},
   "outputs": [],
   "source": [
    "def compute_times_and_volumes(fracs, game_type=\"T\", num_steps=1000, num_therm=1000, seed=12388):\n",
    "    mean_tau, num_swingers, tau_swingers = dict(), dict(), dict()\n",
    "    for frac in fracs:\n",
    "        b = frac + 1e-3\n",
    "        mean_tau[frac], switches = switch_time(b, game_type, num_steps, num_therm, seed)\n",
    "        \n",
    "        swingers = switches > 1\n",
    "        num_swingers[frac] = np.count_nonzero(swingers)\n",
    "        tau_swingers[frac] = np.mean(num_steps / switches[swingers])\n",
    "        print(frac, mean_tau[frac], ' - ', num_swingers[frac], ' - ', tau_swingers[frac])\n",
    "    return mean_tau, num_swingers, tau_swingers\n",
    "\n",
    "#print(\"============ T: \")\n",
    "#tauT, num_swingersT, tau_swingersT = compute_times_and_volumes(fracs, num_steps=int(2e4))\n",
    "#print(\"============ Q: \")\n",
    "#tauQ, num_swingersQ, tau_swingersQ = compute_times_and_volumes(fracsQ, game_type=\"Q\", num_steps=int(2e4))"
   ]
  },
  {
   "cell_type": "code",
   "execution_count": 36,
   "metadata": {},
   "outputs": [
    {
     "name": "stdout",
     "output_type": "stream",
     "text": [
      "========== seed =  11\n",
      "=== T: \n",
      "7/6 8200.18  -  162  -  1.0\n",
      "6/5 9144.53  -  77  -  1.0\n",
      "5/4 8977.88  -  92  -  1.0\n",
      "4/3 9866.68  -  12  -  1.0\n",
      "7/5 8300.17444378  -  153  -  1.02613986948\n",
      "3/2 9288.96666533  -  64  -  1.09373125375\n",
      "5/3 9366.77165809  -  57  -  1.65775924729\n",
      "7/4 6361.30220797  -  348  -  589.574675785\n",
      "2 9611.16222039  -  35  -  1.31423857379\n"
     ]
    },
    {
     "name": "stderr",
     "output_type": "stream",
     "text": [
      "/home/br/virtualenvs/py35/lib/python3.5/site-packages/numpy/core/fromnumeric.py:2909: RuntimeWarning: Mean of empty slice.\n",
      "  out=out, **kwargs)\n",
      "/home/br/virtualenvs/py35/lib/python3.5/site-packages/numpy/core/_methods.py:80: RuntimeWarning: invalid value encountered in double_scalars\n",
      "  ret = ret.dtype.type(ret / rcount)\n"
     ]
    },
    {
     "name": "stdout",
     "output_type": "stream",
     "text": [
      "7/3 10000.0  -  0  -  nan\n",
      "5/2 10000.0  -  0  -  nan\n",
      "=== Q: \n",
      "9/8 8589.03  -  127  -  1.0\n",
      "8/7 9555.6  -  40  -  1.0\n",
      "7/6 9555.6  -  40  -  1.0\n",
      "6/5 9644.48  -  32  -  1.0\n",
      "5/4 9822.24  -  16  -  1.0\n",
      "9/7 7889.1  -  190  -  1.0\n",
      "4/3 8900.11666567  -  99  -  1.06059697015\n",
      "7/5 9922.23388831  -  7  -  1.49992500375\n",
      "3/2 7411.5188615  -  233  -  1.57500149612\n",
      "8/5 8355.74055225  -  148  -  1.1249799035\n",
      "5/3 8833.46147733  -  105  -  1.09837715267\n",
      "7/4 9855.57  -  13  -  1.0\n",
      "9/5 4.10111122811  -  900  -  4.10111122811\n",
      "2 10000.0  -  0  -  nan\n",
      "9/4 10000.0  -  0  -  nan\n",
      "7/3 10000.0  -  0  -  nan\n",
      "5/2 10000.0  -  0  -  nan\n",
      "8/3 10000.0  -  0  -  nan\n"
     ]
    }
   ],
   "source": [
    "num_seeds = 3\n",
    "\n",
    "tauT_all, num_swT_all, tau_swT_all = [], [], []\n",
    "tauQ_all, num_swQ_all, tau_swQ_all = [], [], []\n",
    "\n",
    "for seed in [11]: #, 12388, 123]:\n",
    "    print(\"========== seed = \", seed)\n",
    "    print(\"=== T: \")\n",
    "    tauT, num_swingersT, tau_swingersT = compute_times_and_volumes(fracs, num_steps=int(10000))\n",
    "    tauT_all.append(tauT)\n",
    "    num_swT_all.append(num_swingersT)\n",
    "    tau_swT_all.append(tau_swingersT)\n",
    "    print(\"=== Q: \")\n",
    "    tauQ, num_swingersQ, tau_swingersQ = compute_times_and_volumes(fracsQ, game_type=\"Q\", num_steps=int(10000))\n",
    "    tauQ_all.append(tauQ)\n",
    "    num_swQ_all.append(num_swingersQ)\n",
    "    tau_swQ_all.append(tau_swingersQ)"
   ]
  },
  {
   "cell_type": "code",
   "execution_count": 7,
   "metadata": {},
   "outputs": [
    {
     "ename": "NameError",
     "evalue": "name 'num_swQ_all' is not defined",
     "output_type": "error",
     "traceback": [
      "\u001b[0;31m---------------------------------------------------------------------------\u001b[0m",
      "\u001b[0;31mNameError\u001b[0m                                 Traceback (most recent call last)",
      "\u001b[0;32m<ipython-input-7-04c72c237fee>\u001b[0m in \u001b[0;36m<module>\u001b[0;34m()\u001b[0m\n\u001b[0;32m----> 1\u001b[0;31m \u001b[0mnum_swQ_all\u001b[0m\u001b[0;34m\u001b[0m\u001b[0m\n\u001b[0m",
      "\u001b[0;31mNameError\u001b[0m: name 'num_swQ_all' is not defined"
     ]
    }
   ],
   "source": [
    "num_swQ_all"
   ]
  },
  {
   "cell_type": "code",
   "execution_count": 25,
   "metadata": {
    "collapsed": true
   },
   "outputs": [],
   "source": [
    "def merge_dicts(keys, *dicts):\n",
    "    dct = {}\n",
    "    for key in keys:\n",
    "        dct[key] = [d[key] for d in dicts]\n",
    "    return dct\n",
    "\n",
    "def average_dicts(keys, *dicts):\n",
    "    dct = merge_dicts(keys, *dicts)\n",
    "    av = dict()\n",
    "    for key in dct.keys():\n",
    "        av[key] = np.mean(dct[key])\n",
    "    return av"
   ]
  },
  {
   "cell_type": "code",
   "execution_count": 26,
   "metadata": {},
   "outputs": [
    {
     "data": {
      "text/plain": [
       "{Fraction(7, 6): 820.17999999999995,\n",
       " Fraction(6, 5): 914.53000000000009,\n",
       " Fraction(5, 4): 897.88,\n",
       " Fraction(4, 3): 986.67999999999995,\n",
       " Fraction(7, 5): 830.17443778110953,\n",
       " Fraction(3, 2): 928.96665335994692,\n",
       " Fraction(5, 3): 936.77158106533773,\n",
       " Fraction(7, 4): 636.14391719774869,\n",
       " Fraction(2, 1): 961.16220389805096,\n",
       " Fraction(7, 3): 1000.0,\n",
       " Fraction(5, 2): 1000.0}"
      ]
     },
     "execution_count": 26,
     "metadata": {},
     "output_type": "execute_result"
    }
   ],
   "source": [
    "average_dicts(tauT_all[0].keys(), *tauT_all)"
   ]
  },
  {
   "cell_type": "code",
   "execution_count": 29,
   "metadata": {},
   "outputs": [
    {
     "data": {
      "text/plain": [
       "{Fraction(7, 6): 162.0,\n",
       " Fraction(6, 5): 77.0,\n",
       " Fraction(5, 4): 92.0,\n",
       " Fraction(4, 3): 12.0,\n",
       " Fraction(7, 5): 153.0,\n",
       " Fraction(3, 2): 64.0,\n",
       " Fraction(5, 3): 57.0,\n",
       " Fraction(7, 4): 348.0,\n",
       " Fraction(2, 1): 35.0,\n",
       " Fraction(7, 3): 0.0,\n",
       " Fraction(5, 2): 0.0}"
      ]
     },
     "execution_count": 29,
     "metadata": {},
     "output_type": "execute_result"
    }
   ],
   "source": [
    "average_dicts(tauT_all[0].keys(), *num_swT_all)"
   ]
  },
  {
   "cell_type": "code",
   "execution_count": 30,
   "metadata": {},
   "outputs": [
    {
     "data": {
      "text/plain": [
       "{Fraction(7, 6): 1.0,\n",
       " Fraction(6, 5): 1.0,\n",
       " Fraction(5, 4): 1.0,\n",
       " Fraction(4, 3): 1.0,\n",
       " Fraction(7, 5): 1.0261045947614429,\n",
       " Fraction(3, 2): 1.0935628742514969,\n",
       " Fraction(5, 3): 1.6565431369135606,\n",
       " Fraction(7, 4): 58.992889304522606,\n",
       " Fraction(2, 1): 1.3138145213107735,\n",
       " Fraction(7, 3): nan,\n",
       " Fraction(5, 2): nan}"
      ]
     },
     "execution_count": 30,
     "metadata": {},
     "output_type": "execute_result"
    }
   ],
   "source": [
    "average_dicts(tauT_all[0].keys(), *tau_swT_all)"
   ]
  },
  {
   "cell_type": "code",
   "execution_count": 33,
   "metadata": {},
   "outputs": [
    {
     "data": {
      "text/plain": [
       "{Fraction(7, 6): 955.60000000000002,\n",
       " Fraction(6, 5): 964.48000000000002,\n",
       " Fraction(5, 4): 982.24000000000012,\n",
       " Fraction(4, 3): 890.11665667166415,\n",
       " Fraction(7, 5): 992.23388305847084,\n",
       " Fraction(3, 2): 741.51861546767248,\n",
       " Fraction(5, 3): 883.46144011420301,\n",
       " Fraction(7, 4): 985.57000000000005,\n",
       " Fraction(2, 1): 1000.0,\n",
       " Fraction(7, 3): 1000.0,\n",
       " Fraction(5, 2): 1000.0}"
      ]
     },
     "execution_count": 33,
     "metadata": {},
     "output_type": "execute_result"
    }
   ],
   "source": [
    "average_dicts(tauT_all[0].keys(), *tauQ_all)"
   ]
  },
  {
   "cell_type": "code",
   "execution_count": 34,
   "metadata": {},
   "outputs": [
    {
     "data": {
      "text/plain": [
       "{Fraction(7, 6): 40.0,\n",
       " Fraction(6, 5): 32.0,\n",
       " Fraction(5, 4): 16.0,\n",
       " Fraction(4, 3): 99.0,\n",
       " Fraction(7, 5): 7.0,\n",
       " Fraction(3, 2): 233.0,\n",
       " Fraction(5, 3): 105.0,\n",
       " Fraction(7, 4): 13.0,\n",
       " Fraction(2, 1): 0.0,\n",
       " Fraction(7, 3): 0.0,\n",
       " Fraction(5, 2): 0.0}"
      ]
     },
     "execution_count": 34,
     "metadata": {},
     "output_type": "execute_result"
    }
   ],
   "source": [
    "average_dicts(tauT_all[0].keys(), *num_swQ_all)"
   ]
  },
  {
   "cell_type": "code",
   "execution_count": 35,
   "metadata": {},
   "outputs": [
    {
     "data": {
      "text/plain": [
       "{Fraction(7, 6): 1.0,\n",
       " Fraction(6, 5): 1.0,\n",
       " Fraction(5, 4): 1.0,\n",
       " Fraction(4, 3): 1.060515196946981,\n",
       " Fraction(7, 5): 1.4992503748125936,\n",
       " Fraction(3, 2): 1.5740511626829938,\n",
       " Fraction(5, 3): 1.0980581217408563,\n",
       " Fraction(7, 4): 1.0,\n",
       " Fraction(2, 1): nan,\n",
       " Fraction(7, 3): nan,\n",
       " Fraction(5, 2): nan}"
      ]
     },
     "execution_count": 35,
     "metadata": {},
     "output_type": "execute_result"
    }
   ],
   "source": [
    "average_dicts(tauT_all[0].keys(), *tau_swQ_all)"
   ]
  },
  {
   "cell_type": "markdown",
   "metadata": {},
   "source": [
    "# Tries and attempts"
   ]
  },
  {
   "cell_type": "code",
   "execution_count": 117,
   "metadata": {
    "collapsed": true
   },
   "outputs": [],
   "source": [
    "# init\n",
    "L = 30\n",
    "fraction_D = 0.1\n",
    "b = 1.78\n",
    "\n",
    "rndm = np.random.RandomState(12345)\n",
    "\n",
    "instance = (rndm.uniform(size=(L, L)) < fraction_D).astype(int)\n",
    "game = GameField(L, b)\n",
    "game.field = instance"
   ]
  },
  {
   "cell_type": "code",
   "execution_count": 118,
   "metadata": {},
   "outputs": [],
   "source": [
    "num_steps = 500\n",
    "\n",
    "snapshots = np.zeros((L, L, num_steps), dtype=int)\n",
    "snapshots[:, :, 0] = game.field\n",
    "\n",
    "for step in range(num_steps):\n",
    "    game.evolveQ(1)\n",
    "    snapshots[:, :, step] = game.field"
   ]
  },
  {
   "cell_type": "code",
   "execution_count": 96,
   "metadata": {},
   "outputs": [
    {
     "name": "stdout",
     "output_type": "stream",
     "text": [
      "1111100111\n",
      "1111101111\n",
      "1111101111\n",
      "1111111111\n",
      "1111111111\n",
      "1111111111\n",
      "1111111111\n",
      "1111111111\n",
      "1111111111\n",
      "1111100111\n"
     ]
    }
   ],
   "source": [
    "print(string_field(snapshots[..., -1]))"
   ]
  },
  {
   "cell_type": "code",
   "execution_count": 19,
   "metadata": {},
   "outputs": [
    {
     "data": {
      "text/plain": [
       "(10, 10)"
      ]
     },
     "execution_count": 19,
     "metadata": {},
     "output_type": "execute_result"
    }
   ],
   "source": [
    "snapshots[..., 0].shape"
   ]
  },
  {
   "cell_type": "code",
   "execution_count": 32,
   "metadata": {},
   "outputs": [
    {
     "data": {
      "text/plain": [
       "array([0, 1, 1, 1, 1, 1, 1, 1, 0, 0, 0, 0, 0, 0, 0, 0, 0, 0, 0, 0])"
      ]
     },
     "execution_count": 32,
     "metadata": {},
     "output_type": "execute_result"
    }
   ],
   "source": [
    "snapshots[1, 8, :]"
   ]
  },
  {
   "cell_type": "code",
   "execution_count": 36,
   "metadata": {},
   "outputs": [
    {
     "data": {
      "text/plain": [
       "array([ True, False, False, False, False, False, False,  True, False,\n",
       "       False, False, False, False, False, False, False, False, False, False], dtype=bool)"
      ]
     },
     "execution_count": 36,
     "metadata": {},
     "output_type": "execute_result"
    }
   ],
   "source": [
    "mask = snapshots[1, 8, 1:] != snapshots[1, 8, :-1]\n",
    "mask"
   ]
  },
  {
   "cell_type": "code",
   "execution_count": 34,
   "metadata": {},
   "outputs": [
    {
     "data": {
      "text/plain": [
       "0.89473684210526316"
      ]
     },
     "execution_count": 34,
     "metadata": {},
     "output_type": "execute_result"
    }
   ],
   "source": [
    "mask.sum() / mask.shape[0]"
   ]
  },
  {
   "cell_type": "code",
   "execution_count": 37,
   "metadata": {},
   "outputs": [
    {
     "data": {
      "text/plain": [
       "(array([0, 7]),)"
      ]
     },
     "execution_count": 37,
     "metadata": {},
     "output_type": "execute_result"
    }
   ],
   "source": [
    "mask.nonzero()"
   ]
  },
  {
   "cell_type": "code",
   "execution_count": 45,
   "metadata": {},
   "outputs": [],
   "source": [
    "nnz = (snapshots[..., 1:] != snapshots[..., :-1]).nonzero()"
   ]
  },
  {
   "cell_type": "code",
   "execution_count": 64,
   "metadata": {},
   "outputs": [
    {
     "data": {
      "text/plain": [
       "array([0, 0, 1, 1, 1, 1, 1, 1, 0, 0, 0])"
      ]
     },
     "execution_count": 64,
     "metadata": {},
     "output_type": "execute_result"
    }
   ],
   "source": [
    "s00 = snapshots[0, 0, :]\n",
    "s00"
   ]
  },
  {
   "cell_type": "code",
   "execution_count": 66,
   "metadata": {},
   "outputs": [
    {
     "data": {
      "text/plain": [
       "(array([1, 7]),)"
      ]
     },
     "execution_count": 66,
     "metadata": {},
     "output_type": "execute_result"
    }
   ],
   "source": [
    "(s00[1:] != s00[:-1]).nonzero()"
   ]
  },
  {
   "cell_type": "markdown",
   "metadata": {},
   "source": [
    "# Average switch times\n",
    "\n",
    "Switches at indices $n_1, n_2$. Pad with $0$ and $N$ (=.size-1) : have $0, n_1, n_2, N$.\n",
    "\n",
    "(Here, $n_1 = 1$, $n_2 = 7$, $N=10$)\n",
    "\n",
    "Times between switches:\n",
    "\n",
    "$$\n",
    "n_1 - 0 + 1  = 2\\\\\n",
    "n_2 - n_1 = 6 \\\\\n",
    "N - n_2  = 10 - 7 = 3\\\\\n",
    "$$\n",
    "\n",
    "Mean time is then,\n",
    "\n",
    "$$\n",
    "\\langle \\tau \\rangle = \\dfrac{(n_1 + 1) + (n_2 - n_1) + (N - n_2)}{k+1} = \\dfrac{N+1}{k+1} = \\frac{\\text{num time steps}}{\\text{len(nonzero) + 1}}\n",
    "$$"
   ]
  },
  {
   "cell_type": "code",
   "execution_count": 119,
   "metadata": {
    "collapsed": true
   },
   "outputs": [],
   "source": [
    "switches = np.zeros_like(snapshots[:, :, 0], dtype=int)\n",
    "\n",
    "for i in range(snapshots.shape[0]):\n",
    "    for j in range(snapshots.shape[1]):\n",
    "        s = snapshots[i, j, :]\n",
    "        idx, = (s[1:] - s[:-1]).nonzero()\n",
    "        switches[i, j] = idx.size + 1"
   ]
  },
  {
   "cell_type": "code",
   "execution_count": 120,
   "metadata": {},
   "outputs": [
    {
     "data": {
      "text/plain": [
       "array([[  2,   2,   2,   2,   2,   3,   2,   2,   2,   4,   4,   2,   2,\n",
       "          6,   2,   1,   1,   1,   1,   1,   1,   1,   8,   8,   4,   6,\n",
       "          1,   1,   2,   2],\n",
       "       [  2,   2,   2,   2,   2,   3,   2,   4,   2,   3,   3,   2,   2,\n",
       "          2,   2,   1,   1,   1,   1,   1,   1,   1,   2,   6,   3,   7,\n",
       "          1,   1,   1,   2],\n",
       "       [  2,   2,   2,   2,   2,   3,   2,   4,   4,   2,   2,   3,   2,\n",
       "          2,   2,   1,   1,   1,   1,   1,   1,   1,   2,   5,   2,   6,\n",
       "          1,   1,   1,   2],\n",
       "       [  3,   2,   2,   2,   3,   3,   3,   4,   2,   2,   4,   6,   6,\n",
       "          6,   6,   6,   1,   1,   1,   1,   1,   1,   1,   4,   5,   8,\n",
       "          3,   1,   1,   3],\n",
       "       [  2,   2,   2,   4,   8,   9,   8,   8,   4,   4,   2,   4,   4,\n",
       "          3,   5,   3,   1,   1,   1,   1,   1,   1,   1,   2,   3,   1,\n",
       "        495,   2,   1,   4],\n",
       "       [  1,   1,   1,   5,   1,   1,   7,   5,   4,  10,   4,   7,   3,\n",
       "          5,   6,   6,   2,   2,   1,   1,   1,   1,   1,   3,   5,   3,\n",
       "        494,   2,   1,   1],\n",
       "       [  2,   1,   3,   3,  10,   8,   8,   5,   5, 484,   3,   3,   8,\n",
       "          2,   2,   3,   3,   3,   1,   1,   1,   1,   4,   5, 494,   2,\n",
       "          2,   3,   2,   2],\n",
       "       [  2,   2,   6,   4,   7,   2,   2,   7,   7, 484,   9,   4,   6,\n",
       "          2,   2,   3,   3,   3,   2,   2,   4,   5,   6,   1,   3,   2,\n",
       "          2,   3,   1,   2],\n",
       "       [  1,   2,   3,   3,   3,   1,   1,   5,   3,   7,   7,   6,   9,\n",
       "          3,   2,   4,   4,   2,   2,   2,   2,   3,   4,   5,   5,   2,\n",
       "          2,   1,   1,   1],\n",
       "       [  1,   2,   2,   2,   1,   1,   1,   3,   3,   5,   5,   2,   5,\n",
       "          3,   2,   2,   2,   4,   2,   2,   2,   4,   3,   1,   1,   1,\n",
       "          1,   1,   1,   1],\n",
       "       [  1,   2,   2,   4,   1,   1,   1,   2,   2,   2,   3,   1,   1,\n",
       "          4,   4,   2,   2,   2,   2,   1,   3,   4,   1,   1,   1,   1,\n",
       "          1,   1,   1,   1],\n",
       "       [  1,   2,   2,   4,   1,   1,   1,   2,   2,   2,   3,   2,   1,\n",
       "          2,   2,   2,   2,   2,   2,   3,   3,   4,   1,   1,   1,   1,\n",
       "          1,   1,   1,   1],\n",
       "       [  1,   2,   3,   5,   2,   1,   1,   2,   2,   2,   2,   2,   1,\n",
       "          2,   2,   2,   2,   4,   2,   3,   5,   3,   1,   1,   1,   1,\n",
       "          1,   1,   1,   1],\n",
       "       [  3,   2,   1,   1,   2,   1,   1,   3,   3,   3,   2,   2,   1,\n",
       "          1,   7,   3,   3,   4,   2,   3,   3,   5,   1,   1,   1,   2,\n",
       "          2,   1,   2,   3],\n",
       "       [  3,   5,   7,   6, 488,   1,   1,   2,   2,   2,   2,   2,   3,\n",
       "          1, 487,   2,   2, 488,   1,   1,   3,   5,   2,   2,   2,   2,\n",
       "          1,   1,   1,   5],\n",
       "       [  3,   3,   6,   5,   5,   3,   3,   2,   2,   2,   2,   2,   3,\n",
       "          3, 489,   2,   2,   1,   1, 244,   3,   7,   2,   2,   2,   2,\n",
       "          1,   1,   3,   3],\n",
       "       [  3,   3,   6,   7,   5,   3,   3,   2,   2,   2,   2,   2,   2,\n",
       "          2,   2,   3, 486,   6,   4, 245,   4,   6,   4,   2,   2,   3,\n",
       "          4,   1,   1,   4],\n",
       "       [  3,   3,   5,   5, 492,   5,   3,   3,   3,   3,   3,   3,   3,\n",
       "          3,   3,   3, 246,   1, 243, 485, 247, 247, 246,   2,   2,   1,\n",
       "          1,   1,   3,   3],\n",
       "       [  2,   3,   3,   3,   5, 492,   3,   3,   2,   3,   2,   2,   2,\n",
       "          3,   5,   3,   2,   1,   7,   7,   9,   9,   5,   3,   4,   2,\n",
       "          2,   2,   2,   6],\n",
       "       [  6,   6,   9,   3,   5, 490,   1,   3,   2,   3,   2,   2,   2,\n",
       "          2,   1,   1,   5, 484,   6, 485,   8, 489,   6,   4,   2,   2,\n",
       "          2,   2,   4,   6],\n",
       "       [  3,   5,   4,   3,   4,   6,   6,   1,   2,   3,   2,   2,   1,\n",
       "          2,   2,   2,   2,   3,   5,   7, 485, 489,   4,   4,   4,   2,\n",
       "          2,   1,   1,   5],\n",
       "       [  5,   7,   3,   3,   3,   3,   3,   2,   1,   1,   2,   2,   5,\n",
       "          3,   2,   2,   2,   2,   2,   4,   1,   7,   2,   1,   1,   1,\n",
       "          1,   1,   1,   3],\n",
       "       [  4,   4,   5,   3,   3,   3,   2,   2,   2,   1,   1,  15,   3,\n",
       "          3,   2,   2,   2,   2,   2,   4,   1,   1,   2,   1,   1,   1,\n",
       "          1,   1,   1,   2],\n",
       "       [  3,   1,   4,   2,   2,   3,   2,   2,   2, 485,   3, 479,   5,\n",
       "          2,   2,   2,   2,   2,   2,   2,   2,   1,   2,   2,   1,   1,\n",
       "          1,   1,   1,   2],\n",
       "       [  3,   3,   7,   3,   3,   3,   2,   2,   2,  11,   1,  15,   6,\n",
       "          3,   2,   2,   2,   2,   2,   2,   2,   1,   2,   2,   1,   1,\n",
       "          1,   1,   1,   2],\n",
       "       [  2,   2,   3,   1,   3,   3,   3,   2,   2,  11,   6,  10,   4,\n",
       "          3,   2,   2,   3,   2,   2,   2,   3,   1,   1, 500,   1,   1,\n",
       "          1,   1,   1,   2],\n",
       "       [  2,   2,   3,   1,   1,   2,   2,   2,   2,   8,   7, 483,   6,\n",
       "        472,   3,   3,   3,   2,   2,   2,   3,   4,   4, 484,   1,   1,\n",
       "          1,   1,   1,   3],\n",
       "       [  4,   2,   2,   2,   2,   1,   2,   2,   2,   6,   4,   1,   1,\n",
       "          4,   2,   2,   2,   1,   1,   1,   2,   1, 486,   6,   2,   8,\n",
       "          3,   1,   2,   3],\n",
       "       [  2,   2,   2,   3,   3,   1,   1,   4,   6,   6,   6,   3,   1,\n",
       "          2,   3,   1,   1,   1,   1,   1,   1,   1,   1,   2,   4,  10,\n",
       "          1,   1,   2,   2],\n",
       "       [  2,   3,   3,   3,   3,   3,   2,   2,   1,   1,   5,   4,   2,\n",
       "          2,   8,   1,   1,   1,   1,   1,   1,   1,   7,   6,   4,   6,\n",
       "          2,   2,   2,   2]])"
      ]
     },
     "execution_count": 120,
     "metadata": {},
     "output_type": "execute_result"
    }
   ],
   "source": [
    "switches"
   ]
  },
  {
   "cell_type": "code",
   "execution_count": 121,
   "metadata": {},
   "outputs": [
    {
     "data": {
      "text/plain": [
       "260.19213816550382"
      ]
     },
     "execution_count": 121,
     "metadata": {},
     "output_type": "execute_result"
    }
   ],
   "source": [
    "np.mean(num_steps / switches)"
   ]
  },
  {
   "cell_type": "markdown",
   "metadata": {},
   "source": [
    "# Amimations"
   ]
  },
  {
   "cell_type": "code",
   "execution_count": null,
   "metadata": {
    "collapsed": true
   },
   "outputs": [],
   "source": []
  }
 ],
 "metadata": {
  "kernelspec": {
   "display_name": "Python 3",
   "language": "python",
   "name": "python3"
  },
  "language_info": {
   "codemirror_mode": {
    "name": "ipython",
    "version": 3
   },
   "file_extension": ".py",
   "mimetype": "text/x-python",
   "name": "python",
   "nbconvert_exporter": "python",
   "pygments_lexer": "ipython3",
   "version": "3.5.2"
  }
 },
 "nbformat": 4,
 "nbformat_minor": 2
}
